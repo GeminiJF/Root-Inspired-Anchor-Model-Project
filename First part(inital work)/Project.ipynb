{
 "cells": [
  {
   "cell_type": "code",
   "execution_count": 43,
   "metadata": {},
   "outputs": [],
   "source": [
    "import pandas as pd\n",
    "from pandas.plotting import radviz\n",
    "import matplotlib.pyplot as plt\n",
    "import numpy as np\n",
    "from sklearn.model_selection import train_test_split\n",
    "#import the model we are using\n",
    "from sklearn.ensemble import RandomForestRegressor\n",
    "from sklearn import svm, preprocessing\n",
    "from sklearn.decomposition import PCA\n",
    "from sklearn.preprocessing import StandardScaler\n",
    "from sklearn import linear_model\n",
    "from sklearn.ensemble import BaggingClassifier\n",
    "from sklearn.tree import DecisionTreeClassifier"
   ]
  },
  {
   "cell_type": "code",
   "execution_count": 44,
   "metadata": {
    "scrolled": false
   },
   "outputs": [
    {
     "data": {
      "text/html": [
       "<div>\n",
       "<style scoped>\n",
       "    .dataframe tbody tr th:only-of-type {\n",
       "        vertical-align: middle;\n",
       "    }\n",
       "\n",
       "    .dataframe tbody tr th {\n",
       "        vertical-align: top;\n",
       "    }\n",
       "\n",
       "    .dataframe thead th {\n",
       "        text-align: right;\n",
       "    }\n",
       "</style>\n",
       "<table border=\"1\" class=\"dataframe\">\n",
       "  <thead>\n",
       "    <tr style=\"text-align: right;\">\n",
       "      <th></th>\n",
       "      <th>H [mm]</th>\n",
       "      <th>Nγ [ ]</th>\n",
       "      <th>γAH' [N]</th>\n",
       "      <th>Pmax [N]</th>\n",
       "    </tr>\n",
       "  </thead>\n",
       "  <tbody>\n",
       "    <tr>\n",
       "      <th>0</th>\n",
       "      <td>90.0</td>\n",
       "      <td>7.178479</td>\n",
       "      <td>1.264982</td>\n",
       "      <td>9.080644</td>\n",
       "    </tr>\n",
       "    <tr>\n",
       "      <th>1</th>\n",
       "      <td>90.0</td>\n",
       "      <td>13.881967</td>\n",
       "      <td>0.630942</td>\n",
       "      <td>8.758713</td>\n",
       "    </tr>\n",
       "    <tr>\n",
       "      <th>2</th>\n",
       "      <td>90.0</td>\n",
       "      <td>9.291625</td>\n",
       "      <td>1.264982</td>\n",
       "      <td>11.753734</td>\n",
       "    </tr>\n",
       "    <tr>\n",
       "      <th>3</th>\n",
       "      <td>90.0</td>\n",
       "      <td>17.113597</td>\n",
       "      <td>0.630942</td>\n",
       "      <td>10.797683</td>\n",
       "    </tr>\n",
       "    <tr>\n",
       "      <th>4</th>\n",
       "      <td>90.0</td>\n",
       "      <td>11.142517</td>\n",
       "      <td>1.264982</td>\n",
       "      <td>14.095079</td>\n",
       "    </tr>\n",
       "  </tbody>\n",
       "</table>\n",
       "</div>"
      ],
      "text/plain": [
       "   H [mm]     Nγ [ ]  γAH' [N]   Pmax [N]\n",
       "0    90.0   7.178479  1.264982   9.080644\n",
       "1    90.0  13.881967  0.630942   8.758713\n",
       "2    90.0   9.291625  1.264982  11.753734\n",
       "3    90.0  17.113597  0.630942  10.797683\n",
       "4    90.0  11.142517  1.264982  14.095079"
      ]
     },
     "execution_count": 44,
     "metadata": {},
     "output_type": "execute_result"
    }
   ],
   "source": [
    "def read(file):\n",
    "    return pd.read_csv(file)\n",
    "\n",
    "#features.set_index(['Index'], inplace = True)\n",
    "#features.drop(columns = ['Index'], inplace = True)\n",
    "\n",
    "features = read('csv_data.csv')\n",
    "features.head(5)"
   ]
  },
  {
   "cell_type": "code",
   "execution_count": 45,
   "metadata": {
    "scrolled": true
   },
   "outputs": [
    {
     "name": "stdout",
     "output_type": "stream",
     "text": [
      "The shape of our feature is (177, 4)\n"
     ]
    }
   ],
   "source": [
    "def print_shape(data):\n",
    "    print(\"The shape of our feature is \" + str(data.shape))\n",
    "\n",
    "print_shape(features)"
   ]
  },
  {
   "cell_type": "code",
   "execution_count": 46,
   "metadata": {},
   "outputs": [
    {
     "data": {
      "text/plain": [
       "array(['H [mm]', 'Nγ [ ]', \"γAH' [N]\", 'Pmax [N]'], dtype=object)"
      ]
     },
     "execution_count": 46,
     "metadata": {},
     "output_type": "execute_result"
    }
   ],
   "source": [
    "#summary statistics\n",
    "features.describe()\n",
    "features.columns.values"
   ]
  },
  {
   "cell_type": "code",
   "execution_count": 47,
   "metadata": {},
   "outputs": [],
   "source": [
    "#pd.options.display.max_rows = 181\n",
    "pd.options.display.max_columns = 30\n",
    "#features.sort_values(by = \"L [mm]\", ascending = True, inplace = True)\n",
    "#display(features)"
   ]
  },
  {
   "cell_type": "code",
   "execution_count": 48,
   "metadata": {},
   "outputs": [],
   "source": [
    "#one hot encoding\n",
    "pd.options.display.max_columns = 181\n",
    "pd.options.display.max_rows = 181\n",
    "#features = pd.get_dummies(features, columns = ['n [count]', 'Material'])\n",
    "#features = pd.get_dummies(features, columns = ['n [count]'])\n",
    "#features = pd.get_dummies(features, columns = ['Material'])\n",
    "#features.head(5)\n",
    "#display(features)\n",
    "#print_shape(features)"
   ]
  },
  {
   "cell_type": "code",
   "execution_count": 49,
   "metadata": {
    "scrolled": false
   },
   "outputs": [
    {
     "name": "stdout",
     "output_type": "stream",
     "text": [
      "The shape of our feature is (177, 3)\n"
     ]
    }
   ],
   "source": [
    "\n",
    "\n",
    "#target pmax\n",
    "pmax = np.array(features['Pmax [N]'])\n",
    "#Remove labels from the features\n",
    "features = features.drop('Pmax [N]', axis = 1)\n",
    "\n",
    "features = StandardScaler().fit_transform(features)\n",
    "\n",
    "#pca = PCA(n_components = 11)\n",
    "#principalComponents = pca.fit_transform(features)\n",
    "#features = pd.DataFrame(data = principalComponents, columns = ['pc1', 'pc2','pc3','pc4','pc5','pc6','pc7','pc8','pc9','pc10','pc11'])\n",
    "#display(features)\n",
    "#print(pca.explained_variance_ratio_.cumsum())\n",
    "\n",
    "#Covert to numpy arrays\n",
    "features = np.array(features)\n",
    "\n",
    "\n",
    "\n",
    "#print(features)\n",
    "print_shape(features)"
   ]
  },
  {
   "cell_type": "code",
   "execution_count": 50,
   "metadata": {},
   "outputs": [],
   "source": [
    "#split the data into training set and testing set \n",
    "train_features, test_features, train_labels, test_labels = train_test_split(features, pmax, test_size = 0.25, random_state = 42)"
   ]
  },
  {
   "cell_type": "code",
   "execution_count": 51,
   "metadata": {},
   "outputs": [
    {
     "name": "stdout",
     "output_type": "stream",
     "text": [
      "Training Features Shape: (132, 3)\n",
      "Training Labels Shape: (132,)\n",
      "Testing Features Shape: (45, 3)\n",
      "Testing Labels Shape: (45,)\n"
     ]
    }
   ],
   "source": [
    "print('Training Features Shape:', train_features.shape)\n",
    "print('Training Labels Shape:', train_labels.shape)\n",
    "print('Testing Features Shape:', test_features.shape)\n",
    "print('Testing Labels Shape:', test_labels.shape)"
   ]
  },
  {
   "cell_type": "code",
   "execution_count": 39,
   "metadata": {},
   "outputs": [],
   "source": [
    "#Establish Baseline"
   ]
  },
  {
   "cell_type": "code",
   "execution_count": 40,
   "metadata": {},
   "outputs": [
    {
     "data": {
      "text/plain": [
       "RandomForestRegressor(bootstrap=True, criterion='mse', max_depth=None,\n",
       "                      max_features='auto', max_leaf_nodes=None,\n",
       "                      min_impurity_decrease=0.0, min_impurity_split=None,\n",
       "                      min_samples_leaf=1, min_samples_split=2,\n",
       "                      min_weight_fraction_leaf=0.0, n_estimators=570,\n",
       "                      n_jobs=None, oob_score=False, random_state=141, verbose=0,\n",
       "                      warm_start=False)"
      ]
     },
     "execution_count": 40,
     "metadata": {},
     "output_type": "execute_result"
    }
   ],
   "source": [
    "#instantiate the model \n",
    "rf = RandomForestRegressor(n_estimators = 570, random_state = 141)\n",
    "# n_estimator is lambda\n",
    "# use cross validation to optimize the n_estimators \n",
    "# use k_fold\n",
    "#change the n_estimator to discover the difference \n",
    "#SVM, SVR, knernel RBF, logistic regression, naive base (compare between gernerateive method and discrimitive method)\n",
    "#ensemble method(random bagging)\n",
    "#plot those regression\n",
    "#PCA Get the result (visualize it)\n",
    "# --> classfication using high value, mid value, low value\n",
    "#train the model on training data\n",
    "\n",
    "#cumulate the features to see the result\n",
    "rf.fit(train_features, train_labels)"
   ]
  },
  {
   "cell_type": "code",
   "execution_count": 41,
   "metadata": {},
   "outputs": [
    {
     "name": "stdout",
     "output_type": "stream",
     "text": [
      "Mean Absolute Error: 2.22 newton.\n"
     ]
    }
   ],
   "source": [
    "#Make Predictions\n",
    "#Use the forest's predict method on the test data \n",
    "predictions = rf.predict(test_features)\n",
    "\n",
    "#Calculate the absolute errors\n",
    "errors = abs(predictions - test_labels)\n",
    "\n",
    "#print out the mean absolute error\n",
    "print('Mean Absolute Error:', round(np.mean(errors), 2), 'newton.')"
   ]
  },
  {
   "cell_type": "code",
   "execution_count": 42,
   "metadata": {
    "scrolled": true
   },
   "outputs": [
    {
     "name": "stdout",
     "output_type": "stream",
     "text": [
      "Accuracy: 89.17 %.\n"
     ]
    }
   ],
   "source": [
    "# Calculate mean absolute percentage error\n",
    "mape = 100 * (errors / test_labels)\n",
    "\n",
    "# Calculate and display accuracy\n",
    "accuracy = 100 - np.mean(mape)\n",
    "print('Accuracy:', round(accuracy, 2), '%.')\n"
   ]
  },
  {
   "cell_type": "markdown",
   "metadata": {},
   "source": [
    "Kernel rbf"
   ]
  },
  {
   "cell_type": "code",
   "execution_count": 14,
   "metadata": {},
   "outputs": [
    {
     "name": "stdout",
     "output_type": "stream",
     "text": [
      "0.4665054619980621\n"
     ]
    },
    {
     "name": "stderr",
     "output_type": "stream",
     "text": [
      "C:\\Users\\fmh\\Anaconda3\\lib\\site-packages\\sklearn\\svm\\base.py:193: FutureWarning: The default value of gamma will change from 'auto' to 'scale' in version 0.22 to account better for unscaled features. Set gamma explicitly to 'auto' or 'scale' to avoid this warning.\n",
      "  \"avoid this warning.\", FutureWarning)\n"
     ]
    }
   ],
   "source": [
    "#kernel (rbf)\n",
    "clf = svm.SVR(kernel = \"rbf\")\n",
    "clf.fit(train_features,train_labels)\n",
    "print(clf.score(train_features, train_labels))"
   ]
  },
  {
   "cell_type": "code",
   "execution_count": 15,
   "metadata": {},
   "outputs": [
    {
     "name": "stdout",
     "output_type": "stream",
     "text": [
      "Model: 18.040228219492604, Actual: 16.465722631585038\n",
      "Model: 11.095639681647604, Actual: 10.497081539108782\n",
      "Model: 10.801689560088914, Actual: 9.639485549900499\n",
      "Model: 35.61397747348366, Actual: 42.357748607195\n",
      "Model: 25.059185170873768, Actual: 6.063413449065\n",
      "Model: 27.898925757716846, Actual: 26.367723489059344\n",
      "Model: 10.339948922841511, Actual: 7.934872992134268\n",
      "Model: 35.59027603426565, Actual: 51.879055492810004\n",
      "Model: 10.479885484487934, Actual: 7.861187715016644\n",
      "Model: 19.111841338832345, Actual: 13.370124772445\n",
      "Model: 22.559623470964713, Actual: 14.934077561135252\n",
      "Model: 18.865747123387155, Actual: 20.180180267904998\n",
      "Model: 15.311939727218618, Actual: 21.948365576357837\n",
      "Model: 10.243736515596854, Actual: 5.702605711267501\n",
      "Model: 14.847698355318393, Actual: 13.890200587874556\n",
      "Model: 19.40223430309346, Actual: 15.198136307690001\n",
      "Model: 13.377283971512044, Actual: 13.187881911505\n",
      "Model: 20.135902376802868, Actual: 23.019568288954996\n",
      "Model: 12.85757301117515, Actual: 12.050443881944997\n",
      "Model: 27.168856534594646, Actual: 30.124631352374998\n",
      "Model: 36.00324252428815, Actual: 46.467243922330006\n",
      "Model: 16.245185629594513, Actual: 17.460815900375117\n",
      "Model: 31.903423344105928, Actual: 36.432825650095\n",
      "Model: 32.83263208625284, Actual: 42.290900596805\n",
      "Model: 37.06108320404158, Actual: 50.766841147715006\n",
      "Model: 11.905948903768577, Actual: 12.186581856641498\n",
      "Model: 36.32417528789364, Actual: 52.199373043754996\n",
      "Model: 16.265137246640187, Actual: 17.480300468688483\n",
      "Model: 37.71171929885262, Actual: 66.92157595564\n",
      "Model: 17.279007812715566, Actual: 17.616838348724496\n",
      "Model: 26.351080142553794, Actual: 25.433287879439998\n",
      "Model: 12.153713417265811, Actual: 11.12583075135\n",
      "Model: 20.363916243116854, Actual: 17.90312419049\n",
      "Model: 14.004175433134089, Actual: 6.788083222051872\n",
      "Model: 34.4120183929312, Actual: 35.883579700220004\n",
      "Model: 18.4840060118838, Actual: 18.016852715170874\n",
      "Model: 28.02350663456184, Actual: 36.44491234621999\n",
      "Model: 10.408409993878724, Actual: 6.404842363863999\n",
      "Model: 10.675339131301897, Actual: 8.748970178652105\n",
      "Model: 25.3691681284195, Actual: 29.22451131082\n",
      "Model: 36.09407206950905, Actual: 47.88742336203\n",
      "Model: 11.925301353015536, Actual: 11.529370881281128\n",
      "Model: 31.230927173156214, Actual: 36.89477084034\n",
      "Model: 16.919829280781574, Actual: 9.903385737595\n",
      "Model: 26.77217871654151, Actual: 25.342783287255003\n",
      "Mean Absolute error: 5.2 newton.\n",
      "Accuracy: 65.93 %.\n"
     ]
    }
   ],
   "source": [
    "\n",
    "errors = 0\n",
    "for X,y in zip(test_features, test_labels):\n",
    "    print(f\"Model: {clf.predict([X])[0]}, Actual: {y}\")\n",
    "    errors += abs(clf.predict([X])[0] - y)\n",
    "errors = errors / test_features.shape[0]\n",
    "\n",
    "print('Mean Absolute error:',round(errors, 2) , 'newton.')\n",
    "\n",
    "# Calculate mean absolute percentage error\n",
    "mape = 100 * (errors / test_labels)\n",
    "\n",
    "# Calculate and display accuracy\n",
    "accuracy = 100 - np.mean(mape)\n",
    "print('Accuracy:', round(accuracy, 2), '%.')\n",
    "\n"
   ]
  },
  {
   "cell_type": "markdown",
   "metadata": {},
   "source": [
    "kernel polynomial"
   ]
  },
  {
   "cell_type": "code",
   "execution_count": 16,
   "metadata": {},
   "outputs": [
    {
     "name": "stdout",
     "output_type": "stream",
     "text": [
      "0.7144429886496988\n"
     ]
    },
    {
     "name": "stderr",
     "output_type": "stream",
     "text": [
      "C:\\Users\\fmh\\Anaconda3\\lib\\site-packages\\sklearn\\svm\\base.py:193: FutureWarning: The default value of gamma will change from 'auto' to 'scale' in version 0.22 to account better for unscaled features. Set gamma explicitly to 'auto' or 'scale' to avoid this warning.\n",
      "  \"avoid this warning.\", FutureWarning)\n"
     ]
    }
   ],
   "source": [
    "clf = svm.SVR(kernel = \"poly\")\n",
    "clf.fit(train_features,train_labels)\n",
    "print(clf.score(train_features, train_labels))"
   ]
  },
  {
   "cell_type": "code",
   "execution_count": 17,
   "metadata": {},
   "outputs": [
    {
     "name": "stdout",
     "output_type": "stream",
     "text": [
      "Model: 17.717995436621145, Actual: 16.465722631585038\n",
      "Model: 15.604561106027115, Actual: 10.497081539108782\n",
      "Model: 15.3339887289113, Actual: 9.639485549900499\n",
      "Model: 31.487924386666393, Actual: 42.357748607195\n",
      "Model: 5.115343081762523, Actual: 6.063413449065\n",
      "Model: 18.42027356687719, Actual: 26.367723489059344\n",
      "Model: 14.814340843699885, Actual: 7.934872992134268\n",
      "Model: 59.316703783256216, Actual: 51.879055492810004\n",
      "Model: 14.385114909757823, Actual: 7.861187715016644\n",
      "Model: 14.078629557261168, Actual: 13.370124772445\n",
      "Model: 16.07333421489387, Actual: 14.934077561135252\n",
      "Model: 17.835385961009585, Actual: 20.180180267904998\n",
      "Model: 17.056073157966157, Actual: 21.948365576357837\n",
      "Model: 13.36390506213278, Actual: 5.702605711267501\n",
      "Model: 17.158040798331726, Actual: 13.890200587874556\n",
      "Model: 14.500932508324624, Actual: 15.198136307690001\n",
      "Model: 15.685842193387566, Actual: 13.187881911505\n",
      "Model: 17.819787778108935, Actual: 23.019568288954996\n",
      "Model: 16.57064583724614, Actual: 12.050443881944997\n",
      "Model: 17.150105261393755, Actual: 30.124631352374998\n",
      "Model: 36.73339408272642, Actual: 46.467243922330006\n",
      "Model: 17.45709268820596, Actual: 17.460815900375117\n",
      "Model: 19.464592841113877, Actual: 36.432825650095\n",
      "Model: 19.397726145002206, Actual: 42.290900596805\n",
      "Model: 28.797291234669977, Actual: 50.766841147715006\n",
      "Model: 16.16052548688571, Actual: 12.186581856641498\n",
      "Model: 35.729323996066114, Actual: 52.199373043754996\n",
      "Model: 17.46048041258516, Actual: 17.480300468688483\n",
      "Model: 34.844086455850004, Actual: 66.92157595564\n",
      "Model: 17.615940933603298, Actual: 17.616838348724496\n",
      "Model: 18.195051702991957, Actual: 25.433287879439998\n",
      "Model: 15.225293785927349, Actual: 11.12583075135\n",
      "Model: 17.841705173527483, Actual: 17.90312419049\n",
      "Model: 3.4463036969178376, Actual: 6.788083222051872\n",
      "Model: 27.516447128634002, Actual: 35.883579700220004\n",
      "Model: 17.766596759170422, Actual: 18.016852715170874\n",
      "Model: 16.337465875123605, Actual: 36.44491234621999\n",
      "Model: 13.67033471922609, Actual: 6.404842363863999\n",
      "Model: 15.274932424973276, Actual: 8.748970178652105\n",
      "Model: 17.791574739054592, Actual: 29.22451131082\n",
      "Model: 36.456699201854505, Actual: 47.88742336203\n",
      "Model: 16.174980502955616, Actual: 11.529370881281128\n",
      "Model: 18.880595772384485, Actual: 36.89477084034\n",
      "Model: 0.8347295731346698, Actual: 9.903385737595\n",
      "Model: 17.373375317440633, Actual: 25.342783287255003\n",
      "Mean Absolute error: 7.61 newton.\n",
      "Accuracy: 50.16 %.\n"
     ]
    }
   ],
   "source": [
    "errors = 0\n",
    "for X,y in zip(test_features, test_labels):\n",
    "    print(f\"Model: {clf.predict([X])[0]}, Actual: {y}\")\n",
    "    errors += abs(clf.predict([X])[0] - y)\n",
    "errors = errors / test_features.shape[0]\n",
    "\n",
    "print('Mean Absolute error:',round(errors, 2) , 'newton.')\n",
    "\n",
    "# Calculate mean absolute percentage error\n",
    "mape = 100 * (errors / test_labels)\n",
    "\n",
    "# Calculate and display accuracy\n",
    "accuracy = 100 - np.mean(mape)\n",
    "print('Accuracy:', round(accuracy, 2), '%.')\n"
   ]
  },
  {
   "cell_type": "markdown",
   "metadata": {},
   "source": [
    "Linear"
   ]
  },
  {
   "cell_type": "code",
   "execution_count": 18,
   "metadata": {},
   "outputs": [
    {
     "name": "stdout",
     "output_type": "stream",
     "text": [
      "0.7828080637914053\n"
     ]
    }
   ],
   "source": [
    "clf = svm.SVR(kernel = \"linear\")\n",
    "clf.fit(train_features,train_labels)\n",
    "print(clf.score(train_features, train_labels))"
   ]
  },
  {
   "cell_type": "code",
   "execution_count": 19,
   "metadata": {},
   "outputs": [
    {
     "name": "stdout",
     "output_type": "stream",
     "text": [
      "Model: 18.065056240711648, Actual: 16.465722631585038\n",
      "Model: 10.386270272615969, Actual: 10.497081539108782\n",
      "Model: 9.686581855686237, Actual: 9.639485549900499\n",
      "Model: 42.01362245869215, Actual: 42.357748607195\n",
      "Model: 15.361720145493832, Actual: 6.063413449065\n",
      "Model: 29.076046485466982, Actual: 26.367723489059344\n",
      "Model: 8.408376673010174, Actual: 7.934872992134268\n",
      "Model: 61.168195572375126, Actual: 51.879055492810004\n",
      "Model: 7.672538873496094, Actual: 7.861187715016644\n",
      "Model: 11.551206528443776, Actual: 13.370124772445\n",
      "Model: 19.476259891868537, Actual: 14.934077561135252\n",
      "Model: 20.30843781155342, Actual: 20.180180267904998\n",
      "Model: 16.59606306818967, Actual: 21.948365576357837\n",
      "Model: 5.665215737620521, Actual: 5.702605711267501\n",
      "Model: 15.071756302479823, Actual: 13.890200587874556\n",
      "Model: 12.292082708143377, Actual: 15.198136307690001\n",
      "Model: 11.612196881339443, Actual: 13.187881911505\n",
      "Model: 22.05850643175863, Actual: 23.019568288954996\n",
      "Model: 12.933570901322536, Actual: 12.050443881944997\n",
      "Model: 30.03502981842303, Actual: 30.124631352374998\n",
      "Model: 45.45427124702602, Actual: 46.467243922330006\n",
      "Model: 16.921148579481137, Actual: 17.460815900375117\n",
      "Model: 35.11590246118204, Actual: 36.432825650095\n",
      "Model: 35.408423814517725, Actual: 42.290900596805\n",
      "Model: 46.24571392880003, Actual: 50.766841147715006\n",
      "Model: 11.91732723547367, Actual: 12.186581856641498\n",
      "Model: 45.486006020984235, Actual: 52.199373043754996\n",
      "Model: 16.940162036020094, Actual: 17.480300468688483\n",
      "Model: 49.23011281140211, Actual: 66.92157595564\n",
      "Model: 17.726264574650052, Actual: 17.616838348724496\n",
      "Model: 27.545992740558013, Actual: 25.433287879439998\n",
      "Model: 10.033195569839151, Actual: 11.12583075135\n",
      "Model: 20.556016085566153, Actual: 17.90312419049\n",
      "Model: 2.6586816195737093, Actual: 6.788083222051872\n",
      "Model: 38.597853204304826, Actual: 35.883579700220004\n",
      "Model: 18.7068942998206, Actual: 18.016852715170874\n",
      "Model: 33.451334513332164, Actual: 36.44491234621999\n",
      "Model: 6.26505757939983, Actual: 6.404842363863999\n",
      "Model: 9.412781597981517, Actual: 8.748970178652105\n",
      "Model: 26.567742899323097, Actual: 29.22451131082\n",
      "Model: 45.44165321524054, Actual: 47.88742336203\n",
      "Model: 11.831538246360418, Actual: 11.529370881281128\n",
      "Model: 32.83940076483866, Actual: 36.89477084034\n",
      "Model: 3.801476466715833, Actual: 9.903385737595\n",
      "Model: 28.783565138968786, Actual: 25.342783287255003\n",
      "Mean Absolute error: 2.65 newton.\n",
      "Accuracy: 82.64 %.\n"
     ]
    }
   ],
   "source": [
    "errors = 0\n",
    "for X,y in zip(test_features, test_labels):\n",
    "    print(f\"Model: {clf.predict([X])[0]}, Actual: {y}\")\n",
    "    errors += abs(clf.predict([X])[0] - y)\n",
    "errors = errors / test_features.shape[0]\n",
    "\n",
    "print('Mean Absolute error:',round(errors, 2) , 'newton.')\n",
    "\n",
    "# Calculate mean absolute percentage error\n",
    "mape = 100 * (errors / test_labels)\n",
    "\n",
    "# Calculate and display accuracy\n",
    "accuracy = 100 - np.mean(mape)\n",
    "print('Accuracy:', round(accuracy, 2), '%.')\n"
   ]
  },
  {
   "cell_type": "markdown",
   "metadata": {},
   "source": [
    "Linear Regression"
   ]
  },
  {
   "cell_type": "code",
   "execution_count": 20,
   "metadata": {},
   "outputs": [
    {
     "data": {
      "text/plain": [
       "LinearRegression(copy_X=True, fit_intercept=True, n_jobs=None, normalize=False)"
      ]
     },
     "execution_count": 20,
     "metadata": {},
     "output_type": "execute_result"
    }
   ],
   "source": [
    "reg = linear_model.LinearRegression()\n",
    "reg.fit(train_features, train_labels)"
   ]
  },
  {
   "cell_type": "code",
   "execution_count": 21,
   "metadata": {},
   "outputs": [
    {
     "data": {
      "text/plain": [
       "array([10.82724113,  8.95380538,  7.68126298])"
      ]
     },
     "execution_count": 21,
     "metadata": {},
     "output_type": "execute_result"
    }
   ],
   "source": [
    "reg.coef_"
   ]
  },
  {
   "cell_type": "code",
   "execution_count": 22,
   "metadata": {},
   "outputs": [],
   "source": [
    "a = reg.predict(test_features)"
   ]
  },
  {
   "cell_type": "code",
   "execution_count": 23,
   "metadata": {},
   "outputs": [
    {
     "data": {
      "text/plain": [
       "array([17.81624191,  9.6736562 ,  9.01689806, 50.9063613 ,  3.67322262,\n",
       "       33.4259413 ,  7.9039828 , 65.79538434,  6.86736681,  6.59287955,\n",
       "       14.2223678 , 22.19989041, 14.66009242,  5.06466743, 14.71801955,\n",
       "        7.21490775,  9.57671007, 24.10748199, 12.50488557, 29.97028518,\n",
       "       54.59100978, 16.34027799, 39.43071564, 38.52239321, 50.90143481,\n",
       "       11.20286626, 54.10558053, 16.35995792, 54.25435877, 17.27093509,\n",
       "       31.71885885,  8.42707815, 23.55534062, -2.46630734, 47.49425767,\n",
       "       18.35718133, 33.31628634,  5.52408083,  8.94454976, 28.26423832,\n",
       "       54.45455284, 11.26412936, 36.70758888, -3.52696574, 28.93506662])"
      ]
     },
     "execution_count": 23,
     "metadata": {},
     "output_type": "execute_result"
    }
   ],
   "source": [
    "a"
   ]
  },
  {
   "cell_type": "code",
   "execution_count": 24,
   "metadata": {},
   "outputs": [
    {
     "data": {
      "text/plain": [
       "array([16.46572263, 10.49708154,  9.63948555, 42.35774861,  6.06341345,\n",
       "       26.36772349,  7.93487299, 51.87905549,  7.86118772, 13.37012477,\n",
       "       14.93407756, 20.18018027, 21.94836558,  5.70260571, 13.89020059,\n",
       "       15.19813631, 13.18788191, 23.01956829, 12.05044388, 30.12463135,\n",
       "       46.46724392, 17.4608159 , 36.43282565, 42.2909006 , 50.76684115,\n",
       "       12.18658186, 52.19937304, 17.48030047, 66.92157596, 17.61683835,\n",
       "       25.43328788, 11.12583075, 17.90312419,  6.78808322, 35.8835797 ,\n",
       "       18.01685272, 36.44491235,  6.40484236,  8.74897018, 29.22451131,\n",
       "       47.88742336, 11.52937088, 36.89477084,  9.90338574, 25.34278329])"
      ]
     },
     "execution_count": 24,
     "metadata": {},
     "output_type": "execute_result"
    }
   ],
   "source": [
    "test_labels"
   ]
  },
  {
   "cell_type": "code",
   "execution_count": 25,
   "metadata": {},
   "outputs": [
    {
     "name": "stdout",
     "output_type": "stream",
     "text": [
      "Mean Absolute error: 2.65 newton.\n"
     ]
    }
   ],
   "source": [
    "np.mean(abs(test_labels - a))\n",
    "print('Mean Absolute error:',round(errors, 2) , 'newton.')"
   ]
  },
  {
   "cell_type": "code",
   "execution_count": 26,
   "metadata": {},
   "outputs": [
    {
     "name": "stdout",
     "output_type": "stream",
     "text": [
      "Accuracy: 82.64 %.\n"
     ]
    }
   ],
   "source": [
    "# Calculate mean absolute percentage error\n",
    "mape = 100 * (errors / test_labels)\n",
    "\n",
    "# Calculate and display accuracy\n",
    "accuracy = 100 - np.mean(mape)\n",
    "print('Accuracy:', round(accuracy, 2), '%.')\n"
   ]
  },
  {
   "cell_type": "markdown",
   "metadata": {},
   "source": [
    "logistic regression\n"
   ]
  },
  {
   "cell_type": "code",
   "execution_count": 27,
   "metadata": {},
   "outputs": [
    {
     "name": "stdout",
     "output_type": "stream",
     "text": [
      "0.634815389161655\n"
     ]
    },
    {
     "name": "stderr",
     "output_type": "stream",
     "text": [
      "C:\\Users\\fmh\\Anaconda3\\lib\\site-packages\\sklearn\\svm\\base.py:193: FutureWarning: The default value of gamma will change from 'auto' to 'scale' in version 0.22 to account better for unscaled features. Set gamma explicitly to 'auto' or 'scale' to avoid this warning.\n",
      "  \"avoid this warning.\", FutureWarning)\n"
     ]
    }
   ],
   "source": [
    "clf = svm.SVR(kernel = \"sigmoid\")\n",
    "clf.fit(train_features,train_labels)\n",
    "print(clf.score(train_features, train_labels))"
   ]
  },
  {
   "cell_type": "code",
   "execution_count": 28,
   "metadata": {},
   "outputs": [
    {
     "name": "stdout",
     "output_type": "stream",
     "text": [
      "Model: 17.773574793782736, Actual: 16.465722631585038\n",
      "Model: 10.610534465741145, Actual: 10.497081539108782\n",
      "Model: 10.142353513934198, Actual: 9.639485549900499\n",
      "Model: 42.057199053451214, Actual: 42.357748607195\n",
      "Model: 18.83069312216966, Actual: 6.063413449065\n",
      "Model: 30.43766802190331, Actual: 26.367723489059344\n",
      "Model: 9.353473312659847, Actual: 7.934872992134268\n",
      "Model: 42.60745680029219, Actual: 51.879055492810004\n",
      "Model: 8.785371279257657, Actual: 7.861187715016644\n",
      "Model: 13.118599509254926, Actual: 13.370124772445\n",
      "Model: 21.430565696461034, Actual: 14.934077561135252\n",
      "Model: 22.044781818731664, Actual: 20.180180267904998\n",
      "Model: 14.954690891942958, Actual: 21.948365576357837\n",
      "Model: 7.626130826484484, Actual: 5.702605711267501\n",
      "Model: 14.758969222163055, Actual: 13.890200587874556\n",
      "Model: 13.540244645514788, Actual: 15.198136307690001\n",
      "Model: 11.44493389770377, Actual: 13.187881911505\n",
      "Model: 23.724807733779066, Actual: 23.019568288954996\n",
      "Model: 12.768805498242827, Actual: 12.050443881944997\n",
      "Model: 27.554945770322327, Actual: 30.124631352374998\n",
      "Model: 43.03260176322675, Actual: 46.467243922330006\n",
      "Model: 16.244763300643733, Actual: 17.460815900375117\n",
      "Model: 34.13957164388457, Actual: 36.432825650095\n",
      "Model: 35.87856884558079, Actual: 42.290900596805\n",
      "Model: 39.769472443073354, Actual: 50.766841147715006\n",
      "Model: 11.734694067144805, Actual: 12.186581856641498\n",
      "Model: 43.623497510024364, Actual: 52.199373043754996\n",
      "Model: 16.26394725735696, Actual: 17.480300468688483\n",
      "Model: 42.285171343530806, Actual: 66.92157595564\n",
      "Model: 17.183872771109073, Actual: 17.616838348724496\n",
      "Model: 29.58985312604535, Actual: 25.433287879439998\n",
      "Model: 10.25443553677744, Actual: 11.12583075135\n",
      "Model: 23.554491157346664, Actual: 17.90312419049\n",
      "Model: 7.014461613641803, Actual: 6.788083222051872\n",
      "Model: 40.618064523382564, Actual: 35.883579700220004\n",
      "Model: 18.269903721154012, Actual: 18.016852715170874\n",
      "Model: 29.590392321802117, Actual: 36.44491234621999\n",
      "Model: 7.94619812432812, Actual: 6.404842363863999\n",
      "Model: 10.046901592808402, Actual: 8.748970178652105\n",
      "Model: 28.61965102259541, Actual: 29.22451131082\n",
      "Model: 43.20401521965056, Actual: 47.88742336203\n",
      "Model: 11.763686422709709, Actual: 11.529370881281128\n",
      "Model: 34.74785230916878, Actual: 36.89477084034\n",
      "Model: 6.045873698466245, Actual: 9.903385737595\n",
      "Model: 26.740560936063446, Actual: 25.342783287255003\n",
      "Mean Absolute error: 3.44 newton.\n",
      "Accuracy: 77.49 %.\n"
     ]
    }
   ],
   "source": [
    "errors = 0\n",
    "for X,y in zip(test_features, test_labels):\n",
    "    print(f\"Model: {clf.predict([X])[0]}, Actual: {y}\")\n",
    "    errors += abs(clf.predict([X])[0] - y)\n",
    "errors = errors / test_features.shape[0]\n",
    "\n",
    "print('Mean Absolute error:',round(errors, 2) , 'newton.')\n",
    "\n",
    "# Calculate mean absolute percentage error\n",
    "mape = 100 * (errors / test_labels)\n",
    "\n",
    "# Calculate and display accuracy\n",
    "accuracy = 100 - np.mean(mape)\n",
    "print('Accuracy:', round(accuracy, 2), '%.')\n"
   ]
  },
  {
   "cell_type": "markdown",
   "metadata": {},
   "source": [
    "ensemble learning"
   ]
  },
  {
   "cell_type": "code",
   "execution_count": 30,
   "metadata": {},
   "outputs": [],
   "source": [
    "#bg = BaggingClassifier(DecisionTreeClassifier(), n_estimators = 1000)\n",
    "#bg.fit(train_features, train_labels)\n"
   ]
  },
  {
   "cell_type": "code",
   "execution_count": null,
   "metadata": {},
   "outputs": [],
   "source": []
  }
 ],
 "metadata": {
  "kernelspec": {
   "display_name": "Python 3",
   "language": "python",
   "name": "python3"
  },
  "language_info": {
   "codemirror_mode": {
    "name": "ipython",
    "version": 3
   },
   "file_extension": ".py",
   "mimetype": "text/x-python",
   "name": "python",
   "nbconvert_exporter": "python",
   "pygments_lexer": "ipython3",
   "version": "3.6.8"
  }
 },
 "nbformat": 4,
 "nbformat_minor": 2
}
