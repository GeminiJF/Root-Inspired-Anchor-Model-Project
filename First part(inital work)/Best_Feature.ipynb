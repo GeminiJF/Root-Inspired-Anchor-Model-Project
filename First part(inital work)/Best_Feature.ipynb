{
 "cells": [
  {
   "cell_type": "code",
   "execution_count": 1,
   "metadata": {},
   "outputs": [],
   "source": [
    "import pandas as pd\n",
    "import matplotlib.pyplot as plt\n",
    "import numpy as np\n",
    "\n",
    "df = pd.read_csv(\"PCA_Data.csv\")"
   ]
  },
  {
   "cell_type": "code",
   "execution_count": 2,
   "metadata": {},
   "outputs": [
    {
     "data": {
      "text/html": [
       "<div>\n",
       "<style scoped>\n",
       "    .dataframe tbody tr th:only-of-type {\n",
       "        vertical-align: middle;\n",
       "    }\n",
       "\n",
       "    .dataframe tbody tr th {\n",
       "        vertical-align: top;\n",
       "    }\n",
       "\n",
       "    .dataframe thead th {\n",
       "        text-align: right;\n",
       "    }\n",
       "</style>\n",
       "<table border=\"1\" class=\"dataframe\">\n",
       "  <thead>\n",
       "    <tr style=\"text-align: right;\">\n",
       "      <th></th>\n",
       "      <th>Features</th>\n",
       "      <th>One Dimension</th>\n",
       "      <th>Two Dimension</th>\n",
       "      <th>Three Dimension</th>\n",
       "      <th>Four Dimension</th>\n",
       "    </tr>\n",
       "    <tr>\n",
       "      <th>Features</th>\n",
       "      <th></th>\n",
       "      <th></th>\n",
       "      <th></th>\n",
       "      <th></th>\n",
       "      <th></th>\n",
       "    </tr>\n",
       "  </thead>\n",
       "  <tbody>\n",
       "    <tr>\n",
       "      <th>count</th>\n",
       "      <td>count</td>\n",
       "      <td>12.77</td>\n",
       "      <td>66.50</td>\n",
       "      <td>79.45</td>\n",
       "      <td>88.62</td>\n",
       "    </tr>\n",
       "    <tr>\n",
       "      <th>α</th>\n",
       "      <td>α</td>\n",
       "      <td>0.14</td>\n",
       "      <td>65.03</td>\n",
       "      <td>77.82</td>\n",
       "      <td>88.95</td>\n",
       "    </tr>\n",
       "    <tr>\n",
       "      <th>L</th>\n",
       "      <td>L</td>\n",
       "      <td>39.53</td>\n",
       "      <td>65.02</td>\n",
       "      <td>76.11</td>\n",
       "      <td>88.11</td>\n",
       "    </tr>\n",
       "    <tr>\n",
       "      <th>H</th>\n",
       "      <td>H</td>\n",
       "      <td>64.91</td>\n",
       "      <td>55.00</td>\n",
       "      <td>65.00</td>\n",
       "      <td>75.00</td>\n",
       "    </tr>\n",
       "    <tr>\n",
       "      <th>b</th>\n",
       "      <td>b</td>\n",
       "      <td>33.96</td>\n",
       "      <td>72.92</td>\n",
       "      <td>85.04</td>\n",
       "      <td>88.64</td>\n",
       "    </tr>\n",
       "  </tbody>\n",
       "</table>\n",
       "</div>"
      ],
      "text/plain": [
       "         Features  One Dimension  Two Dimension  Three Dimension  \\\n",
       "Features                                                           \n",
       "count       count          12.77          66.50            79.45   \n",
       "α               α           0.14          65.03            77.82   \n",
       "L               L          39.53          65.02            76.11   \n",
       "H               H          64.91          55.00            65.00   \n",
       "b               b          33.96          72.92            85.04   \n",
       "\n",
       "          Four Dimension  \n",
       "Features                  \n",
       "count              88.62  \n",
       "α                  88.95  \n",
       "L                  88.11  \n",
       "H                  75.00  \n",
       "b                  88.64  "
      ]
     },
     "execution_count": 2,
     "metadata": {},
     "output_type": "execute_result"
    }
   ],
   "source": [
    "df.set_index(df[\"Features\"], inplace = True)\n",
    "df.replace(np.NaN, 0, inplace = True)\n",
    "df.head()"
   ]
  },
  {
   "cell_type": "code",
   "execution_count": 3,
   "metadata": {},
   "outputs": [
    {
     "data": {
      "text/html": [
       "<div>\n",
       "<style scoped>\n",
       "    .dataframe tbody tr th:only-of-type {\n",
       "        vertical-align: middle;\n",
       "    }\n",
       "\n",
       "    .dataframe tbody tr th {\n",
       "        vertical-align: top;\n",
       "    }\n",
       "\n",
       "    .dataframe thead th {\n",
       "        text-align: right;\n",
       "    }\n",
       "</style>\n",
       "<table border=\"1\" class=\"dataframe\">\n",
       "  <thead>\n",
       "    <tr style=\"text-align: right;\">\n",
       "      <th></th>\n",
       "      <th>Features</th>\n",
       "      <th>One Dimension</th>\n",
       "      <th>Two Dimension</th>\n",
       "      <th>Three Dimension</th>\n",
       "      <th>Four Dimension</th>\n",
       "    </tr>\n",
       "    <tr>\n",
       "      <th>Features</th>\n",
       "      <th></th>\n",
       "      <th></th>\n",
       "      <th></th>\n",
       "      <th></th>\n",
       "      <th></th>\n",
       "    </tr>\n",
       "  </thead>\n",
       "  <tbody>\n",
       "    <tr>\n",
       "      <th>count</th>\n",
       "      <td>count</td>\n",
       "      <td>12.77</td>\n",
       "      <td>11.50</td>\n",
       "      <td>14.45</td>\n",
       "      <td>-0.34</td>\n",
       "    </tr>\n",
       "    <tr>\n",
       "      <th>α</th>\n",
       "      <td>α</td>\n",
       "      <td>0.14</td>\n",
       "      <td>10.03</td>\n",
       "      <td>12.82</td>\n",
       "      <td>-0.01</td>\n",
       "    </tr>\n",
       "    <tr>\n",
       "      <th>L</th>\n",
       "      <td>L</td>\n",
       "      <td>39.53</td>\n",
       "      <td>10.02</td>\n",
       "      <td>11.11</td>\n",
       "      <td>-0.85</td>\n",
       "    </tr>\n",
       "    <tr>\n",
       "      <th>H</th>\n",
       "      <td>H</td>\n",
       "      <td>64.91</td>\n",
       "      <td>0.00</td>\n",
       "      <td>0.00</td>\n",
       "      <td>-13.96</td>\n",
       "    </tr>\n",
       "    <tr>\n",
       "      <th>b</th>\n",
       "      <td>b</td>\n",
       "      <td>33.96</td>\n",
       "      <td>17.92</td>\n",
       "      <td>20.04</td>\n",
       "      <td>-0.32</td>\n",
       "    </tr>\n",
       "  </tbody>\n",
       "</table>\n",
       "</div>"
      ],
      "text/plain": [
       "         Features  One Dimension  Two Dimension  Three Dimension  \\\n",
       "Features                                                           \n",
       "count       count          12.77          11.50            14.45   \n",
       "α               α           0.14          10.03            12.82   \n",
       "L               L          39.53          10.02            11.11   \n",
       "H               H          64.91           0.00             0.00   \n",
       "b               b          33.96          17.92            20.04   \n",
       "\n",
       "          Four Dimension  \n",
       "Features                  \n",
       "count              -0.34  \n",
       "α                  -0.01  \n",
       "L                  -0.85  \n",
       "H                 -13.96  \n",
       "b                  -0.32  "
      ]
     },
     "execution_count": 3,
     "metadata": {},
     "output_type": "execute_result"
    }
   ],
   "source": [
    "df[\"Two Dimension\"] = df[\"Two Dimension\"] - 55\n",
    "df[\"Three Dimension\"] = df[\"Three Dimension\"] - 65\n",
    "df[\"Four Dimension\"] = df[\"Four Dimension\"] -88.96\n",
    "df.head()"
   ]
  },
  {
   "cell_type": "code",
   "execution_count": 4,
   "metadata": {},
   "outputs": [],
   "source": [
    "x = df.index.values\n",
    "y = df[\"Three Dimension\"]"
   ]
  },
  {
   "cell_type": "code",
   "execution_count": 5,
   "metadata": {},
   "outputs": [
    {
     "data": {
      "image/png": "[encoded data removed]",
      "text/plain": [
       "<Figure size 1440x792 with 1 Axes>"
      ]
     },
     "metadata": {
      "needs_background": "light"
     },
     "output_type": "display_data"
    }
   ],
   "source": [
    "fig = plt.figure(figsize=(20,11))\n",
    "\n",
    "plt.xlabel(\"Features\", fontsize = 25)\n",
    "plt.ylabel(\"Accuracy\", fontsize = 25)\n",
    "plt.title(\"Random Forest Third Best Feature\", fontsize = 35)\n",
    "#plt.xticks(x, x, rotation = \"vertical\")\n",
    "plt.tick_params(axis='x', colors='red', rotation = 40, labelsize = 15)\n",
    "plt.tick_params(axis=\"y\", labelsize = 20)\n",
    "\n",
    "plt.bar(x, y, color = \"m\")\n",
    "plt.savefig(\"Random_Forest_Third_Best_Feature.png\")"
   ]
  },
  {
   "cell_type": "code",
   "execution_count": null,
   "metadata": {},
   "outputs": [],
   "source": []
  },
  {
   "cell_type": "code",
   "execution_count": null,
   "metadata": {},
   "outputs": [],
   "source": []
  },
  {
   "cell_type": "code",
   "execution_count": null,
   "metadata": {},
   "outputs": [],
   "source": []
  },
  {
   "cell_type": "code",
   "execution_count": null,
   "metadata": {},
   "outputs": [],
   "source": []
  }
 ],
 "metadata": {
  "kernelspec": {
   "display_name": "Python 3",
   "language": "python",
   "name": "python3"
  },
  "language_info": {
   "codemirror_mode": {
    "name": "ipython",
    "version": 3
   },
   "file_extension": ".py",
   "mimetype": "text/x-python",
   "name": "python",
   "nbconvert_exporter": "python",
   "pygments_lexer": "ipython3",
   "version": "3.6.8"
  }
 },
 "nbformat": 4,
 "nbformat_minor": 2
}
