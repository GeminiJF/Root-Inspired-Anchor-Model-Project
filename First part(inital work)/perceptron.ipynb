{
 "cells": [
  {
   "cell_type": "code",
   "execution_count": 33,
   "metadata": {},
   "outputs": [],
   "source": [
    "import pandas as pd\n",
    "from pandas.plotting import radviz\n",
    "import matplotlib.pyplot as plt\n",
    "import numpy as np\n",
    "from sklearn.model_selection import train_test_split\n",
    "#import the model we are using\n",
    "from sklearn.ensemble import RandomForestRegressor\n",
    "from sklearn import svm, preprocessing\n",
    "from sklearn.decomposition import PCA\n",
    "from sklearn.preprocessing import StandardScaler\n",
    "from sklearn import linear_model\n",
    "from sklearn.ensemble import BaggingClassifier\n",
    "from sklearn.tree import DecisionTreeClassifier\n",
    "from sklearn.linear_model import Perceptron\n",
    "from sklearn.metrics import accuracy_score\n",
    "import matplotlib\n",
    "from pandas import DataFrame"
   ]
  },
  {
   "cell_type": "code",
   "execution_count": 34,
   "metadata": {},
   "outputs": [],
   "source": [
    "def read(file):\n",
    "    return pd.read_csv(file)\n",
    "\n",
    "#features.set_index(['Index'], inplace = True)\n",
    "#features.drop(columns = ['Index'], inplace = True)\n",
    "\n",
    "features = read('csv_data.csv')\n",
    "#features.head(5)"
   ]
  },
  {
   "cell_type": "code",
   "execution_count": 35,
   "metadata": {},
   "outputs": [
    {
     "name": "stdout",
     "output_type": "stream",
     "text": [
      "The shape of our feature is (177, 4)\n"
     ]
    }
   ],
   "source": [
    "def print_shape(data):\n",
    "    print(\"The shape of our feature is \" + str(data.shape))\n",
    "\n",
    "print_shape(features)\n",
    "\n",
    "# Calculate the threshold\n",
    "np_array = np.array(features)\n",
    "#print(np_array)\n",
    "np_array = np_array[:,3]\n",
    "threshold = np.average(np_array)\n",
    "#print(threshold)\n",
    "#print(np_array)"
   ]
  },
  {
   "cell_type": "code",
   "execution_count": 36,
   "metadata": {},
   "outputs": [],
   "source": [
    "#pd.options.display.max_rows = 181\n",
    "pd.options.display.max_columns = 30\n",
    "#features.sort_values(by = \"L [mm]\", ascending = True, inplace = True)\n",
    "#display(features)"
   ]
  },
  {
   "cell_type": "code",
   "execution_count": 37,
   "metadata": {},
   "outputs": [],
   "source": [
    "#one hot encoding\n",
    "pd.options.display.max_columns = 181\n",
    "pd.options.display.max_rows = 181\n",
    "#features = pd.get_dummies(features, columns = ['n [count]', 'Material'])\n",
    "#features = pd.get_dummies(features, columns = ['n [count]'])\n",
    "#features = pd.get_dummies(features, columns = ['Material'])\n",
    "#features.head(5)\n",
    "#display(features)\n",
    "#print_shape(features)"
   ]
  },
  {
   "cell_type": "code",
   "execution_count": 38,
   "metadata": {},
   "outputs": [
    {
     "name": "stdout",
     "output_type": "stream",
     "text": [
      "The shape of our feature is (177, 3)\n"
     ]
    }
   ],
   "source": [
    "#target pmax\n",
    "pmax = np.array(features['Pmax [N]'])\n",
    "#Remove labels from the features\n",
    "features = features.drop('Pmax [N]', axis = 1)\n",
    "\n",
    "#features = StandardScaler().fit_transform(features)\n",
    "\n",
    "#pca = PCA(n_components = 11)\n",
    "#principalComponents = pca.fit_transform(features)\n",
    "#features = pd.DataFrame(data = principalComponents, columns = ['pc1', 'pc2','pc3','pc4','pc5','pc6','pc7','pc8','pc9','pc10','pc11'])\n",
    "#display(features)\n",
    "#print(pca.explained_variance_ratio_.cumsum())\n",
    "\n",
    "#Covert to numpy arrays\n",
    "features = np.array(features)\n",
    "#print(features)\n",
    "\n",
    "print_shape(features)"
   ]
  },
  {
   "cell_type": "code",
   "execution_count": 39,
   "metadata": {},
   "outputs": [],
   "source": [
    "#split the data into training set and testing set \n",
    "train_features, test_features, train_labels, test_labels = train_test_split(features, pmax, test_size = 0.25, random_state = 42)"
   ]
  },
  {
   "cell_type": "code",
   "execution_count": 40,
   "metadata": {},
   "outputs": [],
   "source": [
    "sc = StandardScaler()\n",
    "sc.fit(train_features)\n",
    "x_train_std = sc.transform(train_features)\n",
    "x_test_std = sc.transform(test_features)\n",
    "\n",
    "\n",
    "x_train_std = np.insert(x_train_std, 0, 1, axis = 1)\n",
    "x_test_std = np.insert(x_test_std, 0, 1, axis = 1)\n",
    "#print(train_features)\n",
    "#print(test_features)\n",
    "for i in range(test_labels.shape[0]):\n",
    "    if test_labels[i] > threshold:\n",
    "        test_labels[i] = 1\n",
    "    else:\n",
    "        test_labels[i] = -1\n",
    "#print(test_labels)\n",
    "\n",
    "for i in range(train_labels.shape[0]):\n",
    "    if train_labels[i] > threshold:\n",
    "        train_labels[i] = 1\n",
    "    else:\n",
    "        train_labels[i] = -1\n",
    "#print(train_labels)\n",
    "\n"
   ]
  },
  {
   "cell_type": "code",
   "execution_count": 41,
   "metadata": {},
   "outputs": [
    {
     "name": "stdout",
     "output_type": "stream",
     "text": [
      "45\n",
      "[-1. -1. -1.  1. -1. -1. -1.  1. -1. -1.  1. -1. -1. -1. -1. -1. -1. -1.\n",
      " -1. -1.  1. -1. -1.  1.  1. -1.  1. -1.  1. -1. -1. -1. -1. -1.  1. -1.\n",
      " -1. -1. -1.  1.  1. -1.  1. -1. -1.]\n",
      "Mean Absolute Error: 0.31 newton.\n"
     ]
    }
   ],
   "source": [
    "# Create a perceptron object with the parameters: 40 iterations (epochs) over the data, and a learning rate of 0.1\n",
    "ppn = Perceptron(max_iter = 100, eta0=1, random_state=0)\n",
    "\n",
    "pmax_pred = np.empty(test_labels.shape)\n",
    "\n",
    "# Train the perceptron\n",
    "ppn = ppn.fit(x_train_std, np.asarray(train_labels, dtype=\"|S6\"))\n",
    "y_pred = ppn.predict(x_test_std)\n",
    "print(y_pred.shape[0])\n",
    "for i in range(y_pred.shape[0]):\n",
    "    pmax_pred[i] = y_pred[i]\n",
    "#Calculate the absolute errors\n",
    "errors = abs(np.asarray(y_pred, dtype=float) - np.asarray(test_labels, dtype=float))\n",
    "\n",
    "# pmax prediction array\n",
    "print(pmax_pred)\n",
    "\n",
    "#print out the mean absolute error\n",
    "print('Mean Absolute Error:', round(np.mean(errors), 2), 'newton.')\n",
    "\n"
   ]
  },
  {
   "cell_type": "code",
   "execution_count": 42,
   "metadata": {},
   "outputs": [
    {
     "name": "stdout",
     "output_type": "stream",
     "text": [
      "Accuracy: 77.78 %.\n"
     ]
    }
   ],
   "source": [
    "# Calculate mean absolute percentage error\n",
    "mape = 100 * (errors / test_labels)\n",
    "\n",
    "# Calculate and display accuracy\n",
    "accuracy = 100 - np.mean(mape)\n",
    "print('Accuracy:', round(accuracy, 2), '%.')"
   ]
  },
  {
   "cell_type": "code",
   "execution_count": 43,
   "metadata": {},
   "outputs": [],
   "source": [
    "#new = DataFrame(pmax_pred, test_labels)\n",
    "#new.to_csv(\"line_to_scatter_converter.csv\")"
   ]
  },
  {
   "cell_type": "code",
   "execution_count": 44,
   "metadata": {},
   "outputs": [],
   "source": [
    "mid = pd.read_csv(\"line_to_scatter_converter.csv\")\n",
    "mid.sort_values(by = \"truth\", inplace = True)\n",
    "mid.to_csv(\"lts_sort.csv\", index = False)"
   ]
  },
  {
   "cell_type": "code",
   "execution_count": 45,
   "metadata": {},
   "outputs": [],
   "source": [
    "final = pd.read_csv(\"lts_sort.csv\")\n",
    "index = final.index\n",
    "pmax_pred = final[\"predict\"]\n",
    "label = final[\"truth\"]"
   ]
  },
  {
   "cell_type": "code",
   "execution_count": 61,
   "metadata": {},
   "outputs": [
    {
     "data": {
      "image/png": "[encoded data removed]",
      "text/plain": [
       "<Figure size 1440x360 with 1 Axes>"
      ]
     },
     "metadata": {
      "needs_background": "light"
     },
     "output_type": "display_data"
    }
   ],
   "source": [
    "fig = plt.figure(figsize=(20,5))\n",
    "plt.xlabel(\"Test Datapoints\", fontsize = 25)\n",
    "plt.ylabel(\"Pmax\", fontsize = 25)\n",
    "plt.title(\"Perceptron Prediction vs Actual Values\", fontsize = 25)\n",
    "plt.yticks(np.arange(min(pmax_pred), max(pmax_pred)+1, 1.0))\n",
    "plt.ylim(-2, 2)\n",
    "\n",
    "plt.scatter(index, pmax_pred, color = \"r\", label = \"Predictive Model\", marker = \"x\", s = 100)\n",
    "plt.scatter(index, label, color = \"b\", alpha = 0.7, label = \"Test Label\")\n",
    "\n",
    "plt.legend(loc = 2, prop = {\"size\" : 15})\n",
    "\n",
    "\n",
    "\n",
    "plt.savefig(\"Perceptron_plot.png\")"
   ]
  },
  {
   "cell_type": "code",
   "execution_count": null,
   "metadata": {},
   "outputs": [],
   "source": []
  }
 ],
 "metadata": {
  "kernelspec": {
   "display_name": "Python 3",
   "language": "python",
   "name": "python3"
  },
  "language_info": {
   "codemirror_mode": {
    "name": "ipython",
    "version": 3
   },
   "file_extension": ".py",
   "mimetype": "text/x-python",
   "name": "python",
   "nbconvert_exporter": "python",
   "pygments_lexer": "ipython3",
   "version": "3.6.8"
  }
 },
 "nbformat": 4,
 "nbformat_minor": 2
}
