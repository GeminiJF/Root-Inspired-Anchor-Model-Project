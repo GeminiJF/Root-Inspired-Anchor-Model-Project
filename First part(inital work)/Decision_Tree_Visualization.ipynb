{
 "cells": [
  {
   "cell_type": "code",
   "execution_count": 115,
   "metadata": {},
   "outputs": [],
   "source": [
    "import pandas as pd\n",
    "from pandas.plotting import radviz\n",
    "import matplotlib.pyplot as plt\n",
    "import numpy as np\n",
    "from sklearn.model_selection import train_test_split\n",
    "#import the model we are using\n",
    "from sklearn.ensemble import RandomForestRegressor\n",
    "from sklearn import svm, preprocessing\n",
    "from sklearn.decomposition import PCA\n",
    "from sklearn.preprocessing import StandardScaler\n",
    "from sklearn import linear_model\n",
    "from sklearn.ensemble import BaggingClassifier\n",
    "from sklearn.tree import DecisionTreeClassifier\n",
    "from sklearn.ensemble import RandomForestClassifier\n",
    "from sklearn import utils\n",
    "from sklearn.tree import export_graphviz\n",
    "from sklearn import tree\n",
    "import pydot\n",
    "from subprocess import call\n",
    "from IPython.display import Image"
   ]
  },
  {
   "cell_type": "code",
   "execution_count": 116,
   "metadata": {},
   "outputs": [
    {
     "data": {
      "text/html": [
       "<div>\n",
       "<style scoped>\n",
       "    .dataframe tbody tr th:only-of-type {\n",
       "        vertical-align: middle;\n",
       "    }\n",
       "\n",
       "    .dataframe tbody tr th {\n",
       "        vertical-align: top;\n",
       "    }\n",
       "\n",
       "    .dataframe thead th {\n",
       "        text-align: right;\n",
       "    }\n",
       "</style>\n",
       "<table border=\"1\" class=\"dataframe\">\n",
       "  <thead>\n",
       "    <tr style=\"text-align: right;\">\n",
       "      <th></th>\n",
       "      <th>H [mm]</th>\n",
       "      <th>Nγ [ ]</th>\n",
       "      <th>γAH' [N]</th>\n",
       "      <th>Pmax [N]</th>\n",
       "    </tr>\n",
       "  </thead>\n",
       "  <tbody>\n",
       "    <tr>\n",
       "      <th>0</th>\n",
       "      <td>90.0</td>\n",
       "      <td>7.178479</td>\n",
       "      <td>1.264982</td>\n",
       "      <td>9.080644</td>\n",
       "    </tr>\n",
       "    <tr>\n",
       "      <th>1</th>\n",
       "      <td>90.0</td>\n",
       "      <td>13.881967</td>\n",
       "      <td>0.630942</td>\n",
       "      <td>8.758713</td>\n",
       "    </tr>\n",
       "    <tr>\n",
       "      <th>2</th>\n",
       "      <td>90.0</td>\n",
       "      <td>9.291625</td>\n",
       "      <td>1.264982</td>\n",
       "      <td>11.753734</td>\n",
       "    </tr>\n",
       "    <tr>\n",
       "      <th>3</th>\n",
       "      <td>90.0</td>\n",
       "      <td>17.113597</td>\n",
       "      <td>0.630942</td>\n",
       "      <td>10.797683</td>\n",
       "    </tr>\n",
       "    <tr>\n",
       "      <th>4</th>\n",
       "      <td>90.0</td>\n",
       "      <td>11.142517</td>\n",
       "      <td>1.264982</td>\n",
       "      <td>14.095079</td>\n",
       "    </tr>\n",
       "  </tbody>\n",
       "</table>\n",
       "</div>"
      ],
      "text/plain": [
       "   H [mm]     Nγ [ ]  γAH' [N]   Pmax [N]\n",
       "0    90.0   7.178479  1.264982   9.080644\n",
       "1    90.0  13.881967  0.630942   8.758713\n",
       "2    90.0   9.291625  1.264982  11.753734\n",
       "3    90.0  17.113597  0.630942  10.797683\n",
       "4    90.0  11.142517  1.264982  14.095079"
      ]
     },
     "execution_count": 116,
     "metadata": {},
     "output_type": "execute_result"
    }
   ],
   "source": [
    "def read(file):\n",
    "    return pd.read_csv(file)\n",
    "\n",
    "#features.set_index(['Index'], inplace = True)\n",
    "#features.drop(columns = ['Index'], inplace = True)\n",
    "\n",
    "features = read('csv_data.csv')\n",
    "features.head(5)"
   ]
  },
  {
   "cell_type": "code",
   "execution_count": 117,
   "metadata": {},
   "outputs": [
    {
     "name": "stdout",
     "output_type": "stream",
     "text": [
      "The shape of our feature is (177, 4)\n"
     ]
    }
   ],
   "source": [
    "def print_shape(data):\n",
    "    print(\"The shape of our feature is \" + str(data.shape))\n",
    "\n",
    "print_shape(features)"
   ]
  },
  {
   "cell_type": "code",
   "execution_count": 118,
   "metadata": {},
   "outputs": [
    {
     "data": {
      "text/plain": [
       "array(['H [mm]', 'Nγ [ ]', \"γAH' [N]\", 'Pmax [N]'], dtype=object)"
      ]
     },
     "execution_count": 118,
     "metadata": {},
     "output_type": "execute_result"
    }
   ],
   "source": [
    "#summary statistics\n",
    "features.describe()\n",
    "features.columns.values"
   ]
  },
  {
   "cell_type": "code",
   "execution_count": 119,
   "metadata": {},
   "outputs": [],
   "source": [
    "#pd.options.display.max_rows = 181\n",
    "pd.options.display.max_columns = 30\n",
    "#features.sort_values(by = \"L [mm]\", ascending = True, inplace = True)\n",
    "#display(features)"
   ]
  },
  {
   "cell_type": "code",
   "execution_count": 120,
   "metadata": {},
   "outputs": [],
   "source": [
    "#one hot encoding\n",
    "pd.options.display.max_columns = 181\n",
    "pd.options.display.max_rows = 181\n",
    "#features = pd.get_dummies(features, columns = ['n [count]', 'Material'])\n",
    "#features = pd.get_dummies(features, columns = ['n [count]'])\n",
    "#features = pd.get_dummies(features, columns = ['Material'])\n",
    "#features.head(5)\n",
    "#display(features)\n",
    "#print_shape(features)"
   ]
  },
  {
   "cell_type": "code",
   "execution_count": 121,
   "metadata": {},
   "outputs": [
    {
     "name": "stdout",
     "output_type": "stream",
     "text": [
      "The shape of our feature is (177, 3)\n"
     ]
    }
   ],
   "source": [
    "\n",
    "#target pmax\n",
    "pmax = np.array(features['Pmax [N]'])\n",
    "#Remove labels from the features\n",
    "features = features.drop('Pmax [N]', axis = 1)\n",
    "\n",
    "features = StandardScaler().fit_transform(features)\n",
    "\n",
    "#pca = PCA(n_components = 11)\n",
    "#principalComponents = pca.fit_transform(features)\n",
    "#features = pd.DataFrame(data = principalComponents, columns = ['pc1', 'pc2','pc3','pc4','pc5','pc6','pc7','pc8','pc9','pc10','pc11'])\n",
    "#display(features)\n",
    "#print(pca.explained_variance_ratio_.cumsum())\n",
    "\n",
    "#Covert to numpy arrays\n",
    "features = np.array(features)\n",
    "\n",
    "\n",
    "\n",
    "#print(features)\n",
    "print_shape(features)"
   ]
  },
  {
   "cell_type": "code",
   "execution_count": 122,
   "metadata": {},
   "outputs": [],
   "source": [
    "model = RandomForestClassifier(n_estimators = 570, random_state = 141)"
   ]
  },
  {
   "cell_type": "code",
   "execution_count": 126,
   "metadata": {},
   "outputs": [
    {
     "name": "stdout",
     "output_type": "stream",
     "text": [
      "[ 25  22  46  36  61  26   0  41  42  47 106 109 136   4  67  60 121 125\n",
      " 151  79  82  92  27   2  69  62  56  68 117 120 144   9 107  96  77  75\n",
      " 127 131 153 104  84 108  93 115  87  34  98  74  64 122 114  89  97 135\n",
      " 162  88  76 130 150  94 138 163  51  63  78  86  85   5  30  71 111 100\n",
      "  59 105 128 147 124 137 155 169 170 174 113 118 134 140 149 142 158 159\n",
      " 167 165 171 173 172 175  11  45  20  73  45  15  55  29  91  39  19  32\n",
      "  44  14  35  72  48  57 129  70 110 160   3  16   7  24  12  31  17  43\n",
      "  66  40 123  49 101 148   1  10   6  18   8  23  13  28  58  33 119  38\n",
      "  90 146  21  54  37  52  50  65  53  80  99  81 139 102 126 166  83 103\n",
      "  95 112 116 132 133 145 143 141 156 154 152 157 164 161 168]\n",
      "continuous\n",
      "multiclass\n",
      "multiclass\n"
     ]
    }
   ],
   "source": [
    "lab_enc = preprocessing.LabelEncoder()\n",
    "pmax_encoded = lab_enc.fit_transform(pmax)\n",
    "print(training_scores_encoded)\n",
    "print(utils.multiclass.type_of_target(pmax))\n",
    "print(utils.multiclass.type_of_target(pmax.astype('int')))\n",
    "print(utils.multiclass.type_of_target(training_scores_encoded))"
   ]
  },
  {
   "cell_type": "code",
   "execution_count": 124,
   "metadata": {},
   "outputs": [],
   "source": [
    "model.fit(features, pmax_encoded)\n",
    "estimator = model.estimators_[5]"
   ]
  },
  {
   "cell_type": "code",
   "execution_count": 125,
   "metadata": {},
   "outputs": [],
   "source": [
    "#export_graphviz(model.fit(features, pmax_encoded),\n",
    "#                out_file='Random_Forest_plot.dot', \n",
    "#                feature_names = features,\n",
    "#                class_names = pmax_encoded,\n",
    "#                rounded = True, proportion = False, \n",
    "#                precision = 2, filled = True)\n",
    "tree.export_graphviz(model.estimators_[0], out_file='tree_from_forest.dot')\n",
    "(graph,) = pydot.graph_from_dot_file('tree_from_forest.dot')\n",
    "graph.write_png('tree_from_forest.png')"
   ]
  },
  {
   "cell_type": "code",
   "execution_count": null,
   "metadata": {},
   "outputs": [],
   "source": []
  }
 ],
 "metadata": {
  "kernelspec": {
   "display_name": "Python 3",
   "language": "python",
   "name": "python3"
  },
  "language_info": {
   "codemirror_mode": {
    "name": "ipython",
    "version": 3
   },
   "file_extension": ".py",
   "mimetype": "text/x-python",
   "name": "python",
   "nbconvert_exporter": "python",
   "pygments_lexer": "ipython3",
   "version": "3.6.8"
  }
 },
 "nbformat": 4,
 "nbformat_minor": 2
}
