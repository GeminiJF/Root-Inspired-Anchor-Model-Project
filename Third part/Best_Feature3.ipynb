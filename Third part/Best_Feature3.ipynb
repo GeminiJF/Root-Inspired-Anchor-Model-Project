{
 "cells": [
  {
   "cell_type": "code",
   "execution_count": 1,
   "metadata": {},
   "outputs": [],
   "source": [
    "import pandas as pd\n",
    "df = pd.read_excel(\"project_dataset.xlsx\")\n",
    "df.drop(columns = [\"Unnamed: 24\", \"P_SLIPLINE [N]\", \"P_slip/gAH\", \"H/2b_updated\",\"gammaAH_updated\", \"Unnamed: 30\", \"file\",'Pmax [N]'], inplace = True)\n",
    "df.dropna(axis = 0, inplace = True)"
   ]
  },
  {
   "cell_type": "code",
   "execution_count": 2,
   "metadata": {},
   "outputs": [],
   "source": [
    "df.to_csv(\"extend_project_dataset.csv\", index = False)\n",
    "df = pd.read_csv(\"extend_project_dataset.csv\")"
   ]
  },
  {
   "cell_type": "code",
   "execution_count": 3,
   "metadata": {},
   "outputs": [
    {
     "data": {
      "text/plain": [
       "array(['n [count]', 'α [°]', 'L [mm]', 'H [mm]', 'b [mm]', 'H/2b [ ]',\n",
       "       'Ls [mm]', 'd [mm]', 'P [ ]', '2π/n [rad]', 'γ [N/mm3]',\n",
       "       'δ(Pmax) [mm]', 'max(ktan) [N/mm]', \"γAH' [N]\", 'Nγ [ ]',\n",
       "       'Vroot [mm3]', 'F/Nroot [ ]', 'P0 [N]', 'DR [ ]', 'Material',\n",
       "       'd50 [mm]', 'φ [°]', 'f'], dtype=object)"
      ]
     },
     "execution_count": 3,
     "metadata": {},
     "output_type": "execute_result"
    }
   ],
   "source": [
    "df.columns.values"
   ]
  },
  {
   "cell_type": "code",
   "execution_count": 4,
   "metadata": {},
   "outputs": [],
   "source": [
    "df.drop(columns = ['n [count]',  'L [mm]', 'H [mm]',  \n",
    "       'd [mm]', 'P [ ]', 'γ [N/mm3]',\n",
    "        'δ(Pmax) [mm]', 'max(ktan) [N/mm]', \n",
    "       'Nγ [ ]', 'Vroot [mm3]', 'F/Nroot [ ]',  'DR [ ]',\n",
    "       'Material', 'd50 [mm]', 'φ [°]'], inplace = True)"
   ]
  },
  {
   "cell_type": "code",
   "execution_count": 5,
   "metadata": {},
   "outputs": [],
   "source": [
    "df.to_csv(\"third_part_test.csv\", index = False)"
   ]
  },
  {
   "cell_type": "code",
   "execution_count": null,
   "metadata": {},
   "outputs": [],
   "source": []
  }
 ],
 "metadata": {
  "kernelspec": {
   "display_name": "Python 3",
   "language": "python",
   "name": "python3"
  },
  "language_info": {
   "codemirror_mode": {
    "name": "ipython",
    "version": 3
   },
   "file_extension": ".py",
   "mimetype": "text/x-python",
   "name": "python",
   "nbconvert_exporter": "python",
   "pygments_lexer": "ipython3",
   "version": "3.6.8"
  }
 },
 "nbformat": 4,
 "nbformat_minor": 2
}
