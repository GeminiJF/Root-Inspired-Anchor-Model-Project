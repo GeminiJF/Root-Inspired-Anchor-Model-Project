{
 "cells": [
  {
   "cell_type": "code",
   "execution_count": 705,
   "metadata": {},
   "outputs": [],
   "source": [
    "import pandas as pd\n",
    "df = pd.read_csv(\"extend_project_dataset.csv\")"
   ]
  },
  {
   "cell_type": "code",
   "execution_count": 706,
   "metadata": {},
   "outputs": [
    {
     "data": {
      "text/plain": [
       "array(['n [count]', 'α [°]', 'L [mm]', 'H [mm]', 'b [mm]', 'H/2b [ ]',\n",
       "       'Ls [mm]', 'd [mm]', 'P [ ]', '2π/n [rad]', 'γ [N/mm3]',\n",
       "       'δ(Pmax) [mm]', 'max(ktan) [N/mm]', \"γAH' [N]\", 'Nγ [ ]',\n",
       "       'Vroot [mm3]', 'F/Nroot [ ]', 'P0 [N]', 'DR [ ]', 'Material',\n",
       "       'd50 [mm]', 'φ [°]', 'f'], dtype=object)"
      ]
     },
     "execution_count": 706,
     "metadata": {},
     "output_type": "execute_result"
    }
   ],
   "source": [
    "df.columns.values"
   ]
  },
  {
   "cell_type": "code",
   "execution_count": 707,
   "metadata": {},
   "outputs": [],
   "source": [
    "df.drop(columns = ['max(ktan) [N/mm]','F/Nroot [ ]','Nγ [ ]','φ [°]','L [mm]','α [°]','n [count]','DR [ ]','b [mm]','Material'], inplace = True)"
   ]
  },
  {
   "cell_type": "code",
   "execution_count": 708,
   "metadata": {},
   "outputs": [],
   "source": [
    "df.to_csv(\"third_part_test2.csv\", index = False)"
   ]
  },
  {
   "cell_type": "code",
   "execution_count": null,
   "metadata": {},
   "outputs": [],
   "source": []
  }
 ],
 "metadata": {
  "kernelspec": {
   "display_name": "Python 3",
   "language": "python",
   "name": "python3"
  },
  "language_info": {
   "codemirror_mode": {
    "name": "ipython",
    "version": 3
   },
   "file_extension": ".py",
   "mimetype": "text/x-python",
   "name": "python",
   "nbconvert_exporter": "python",
   "pygments_lexer": "ipython3",
   "version": "3.6.8"
  }
 },
 "nbformat": 4,
 "nbformat_minor": 2
}
