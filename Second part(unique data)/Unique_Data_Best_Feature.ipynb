{
 "cells": [
  {
   "cell_type": "code",
   "execution_count": 430,
   "metadata": {},
   "outputs": [],
   "source": [
    "import pandas as pd\n",
    "\n",
    "df = pd.read_csv(\"unique_data.csv\")"
   ]
  },
  {
   "cell_type": "code",
   "execution_count": 431,
   "metadata": {},
   "outputs": [
    {
     "data": {
      "text/plain": [
       "array(['n [count]', 'α [°]', 'L [mm]', 'H [mm]', 'b [mm]', 'Ls [mm]',\n",
       "       'd [mm]', '2π/n [rad]', 'γ [N/mm3]', 'Pmax [N]', 'δ(Pmax) [mm]',\n",
       "       \"γAH' [N]\", 'Vroot [mm3]', 'P0 [N]', 'DR [ ]', 'Material',\n",
       "       'd50 [mm]', 'φ [°]'], dtype=object)"
      ]
     },
     "execution_count": 431,
     "metadata": {},
     "output_type": "execute_result"
    }
   ],
   "source": [
    "df.columns.values"
   ]
  },
  {
   "cell_type": "code",
   "execution_count": 432,
   "metadata": {},
   "outputs": [],
   "source": [
    "df.drop(columns = [ \"α [°]\", \"L [mm]\", \"Ls [mm]\", \"2π/n [rad]\", \"δ(Pmax) [mm]\", \"γAH' [N]\", \"Vroot [mm3]\", \"DR [ ]\", \"Material\", \"d50 [mm]\", \"φ [°]\"], inplace = True)"
   ]
  },
  {
   "cell_type": "code",
   "execution_count": 433,
   "metadata": {},
   "outputs": [
    {
     "data": {
      "text/html": [
       "<div>\n",
       "<style scoped>\n",
       "    .dataframe tbody tr th:only-of-type {\n",
       "        vertical-align: middle;\n",
       "    }\n",
       "\n",
       "    .dataframe tbody tr th {\n",
       "        vertical-align: top;\n",
       "    }\n",
       "\n",
       "    .dataframe thead th {\n",
       "        text-align: right;\n",
       "    }\n",
       "</style>\n",
       "<table border=\"1\" class=\"dataframe\">\n",
       "  <thead>\n",
       "    <tr style=\"text-align: right;\">\n",
       "      <th></th>\n",
       "      <th>n [count]</th>\n",
       "      <th>H [mm]</th>\n",
       "      <th>b [mm]</th>\n",
       "      <th>d [mm]</th>\n",
       "      <th>γ [N/mm3]</th>\n",
       "      <th>Pmax [N]</th>\n",
       "      <th>P0 [N]</th>\n",
       "    </tr>\n",
       "  </thead>\n",
       "  <tbody>\n",
       "    <tr>\n",
       "      <th>0</th>\n",
       "      <td>3</td>\n",
       "      <td>90.0</td>\n",
       "      <td>19.4114</td>\n",
       "      <td>5.0</td>\n",
       "      <td>0.000016</td>\n",
       "      <td>9.080644</td>\n",
       "      <td>0.046939</td>\n",
       "    </tr>\n",
       "    <tr>\n",
       "      <th>1</th>\n",
       "      <td>3</td>\n",
       "      <td>90.0</td>\n",
       "      <td>12.9410</td>\n",
       "      <td>5.0</td>\n",
       "      <td>0.000016</td>\n",
       "      <td>8.758713</td>\n",
       "      <td>0.154249</td>\n",
       "    </tr>\n",
       "    <tr>\n",
       "      <th>2</th>\n",
       "      <td>6</td>\n",
       "      <td>90.0</td>\n",
       "      <td>19.4114</td>\n",
       "      <td>5.0</td>\n",
       "      <td>0.000016</td>\n",
       "      <td>11.753734</td>\n",
       "      <td>0.720029</td>\n",
       "    </tr>\n",
       "    <tr>\n",
       "      <th>3</th>\n",
       "      <td>6</td>\n",
       "      <td>90.0</td>\n",
       "      <td>12.9410</td>\n",
       "      <td>5.0</td>\n",
       "      <td>0.000016</td>\n",
       "      <td>10.797683</td>\n",
       "      <td>1.032218</td>\n",
       "    </tr>\n",
       "    <tr>\n",
       "      <th>4</th>\n",
       "      <td>F</td>\n",
       "      <td>90.0</td>\n",
       "      <td>19.4114</td>\n",
       "      <td>5.0</td>\n",
       "      <td>0.000016</td>\n",
       "      <td>14.095079</td>\n",
       "      <td>2.017568</td>\n",
       "    </tr>\n",
       "  </tbody>\n",
       "</table>\n",
       "</div>"
      ],
      "text/plain": [
       "  n [count]  H [mm]   b [mm]  d [mm]  γ [N/mm3]   Pmax [N]    P0 [N]\n",
       "0         3    90.0  19.4114     5.0   0.000016   9.080644  0.046939\n",
       "1         3    90.0  12.9410     5.0   0.000016   8.758713  0.154249\n",
       "2         6    90.0  19.4114     5.0   0.000016  11.753734  0.720029\n",
       "3         6    90.0  12.9410     5.0   0.000016  10.797683  1.032218\n",
       "4         F    90.0  19.4114     5.0   0.000016  14.095079  2.017568"
      ]
     },
     "execution_count": 433,
     "metadata": {},
     "output_type": "execute_result"
    }
   ],
   "source": [
    "df.head()"
   ]
  },
  {
   "cell_type": "code",
   "execution_count": 434,
   "metadata": {},
   "outputs": [],
   "source": [
    "df.to_csv(\"unique_best_features.csv\", index = False)"
   ]
  },
  {
   "cell_type": "code",
   "execution_count": null,
   "metadata": {},
   "outputs": [],
   "source": []
  }
 ],
 "metadata": {
  "kernelspec": {
   "display_name": "Python 3",
   "language": "python",
   "name": "python3"
  },
  "language_info": {
   "codemirror_mode": {
    "name": "ipython",
    "version": 3
   },
   "file_extension": ".py",
   "mimetype": "text/x-python",
   "name": "python",
   "nbconvert_exporter": "python",
   "pygments_lexer": "ipython3",
   "version": "3.6.8"
  }
 },
 "nbformat": 4,
 "nbformat_minor": 2
}
