{
 "cells": [
  {
   "cell_type": "code",
   "execution_count": 17,
   "metadata": {},
   "outputs": [],
   "source": [
    "import pandas as pd\n",
    "from pandas import DataFrame\n",
    "from pandas.plotting import radviz\n",
    "import matplotlib.pyplot as plt\n",
    "import numpy as np\n",
    "from sklearn.model_selection import train_test_split\n",
    "#import the model we are using\n",
    "from sklearn.ensemble import RandomForestRegressor\n",
    "from sklearn import svm, preprocessing\n",
    "from sklearn.decomposition import PCA\n",
    "from sklearn.preprocessing import StandardScaler\n",
    "from sklearn import linear_model\n",
    "from sklearn.ensemble import BaggingClassifier\n",
    "from sklearn.tree import DecisionTreeClassifier\n",
    "from sklearn.linear_model import Perceptron\n",
    "from matplotlib import pyplot as plt"
   ]
  },
  {
   "cell_type": "code",
   "execution_count": 18,
   "metadata": {},
   "outputs": [
    {
     "data": {
      "text/html": [
       "<div>\n",
       "<style scoped>\n",
       "    .dataframe tbody tr th:only-of-type {\n",
       "        vertical-align: middle;\n",
       "    }\n",
       "\n",
       "    .dataframe tbody tr th {\n",
       "        vertical-align: top;\n",
       "    }\n",
       "\n",
       "    .dataframe thead th {\n",
       "        text-align: right;\n",
       "    }\n",
       "</style>\n",
       "<table border=\"1\" class=\"dataframe\">\n",
       "  <thead>\n",
       "    <tr style=\"text-align: right;\">\n",
       "      <th></th>\n",
       "      <th>n [count]</th>\n",
       "      <th>H [mm]</th>\n",
       "      <th>b [mm]</th>\n",
       "      <th>d [mm]</th>\n",
       "      <th>γ [N/mm3]</th>\n",
       "      <th>Pmax [N]</th>\n",
       "      <th>P0 [N]</th>\n",
       "    </tr>\n",
       "  </thead>\n",
       "  <tbody>\n",
       "    <tr>\n",
       "      <th>0</th>\n",
       "      <td>3</td>\n",
       "      <td>90.0</td>\n",
       "      <td>19.4114</td>\n",
       "      <td>5.0</td>\n",
       "      <td>0.000016</td>\n",
       "      <td>9.080644</td>\n",
       "      <td>0.046939</td>\n",
       "    </tr>\n",
       "    <tr>\n",
       "      <th>1</th>\n",
       "      <td>3</td>\n",
       "      <td>90.0</td>\n",
       "      <td>12.9410</td>\n",
       "      <td>5.0</td>\n",
       "      <td>0.000016</td>\n",
       "      <td>8.758713</td>\n",
       "      <td>0.154249</td>\n",
       "    </tr>\n",
       "    <tr>\n",
       "      <th>2</th>\n",
       "      <td>6</td>\n",
       "      <td>90.0</td>\n",
       "      <td>19.4114</td>\n",
       "      <td>5.0</td>\n",
       "      <td>0.000016</td>\n",
       "      <td>11.753734</td>\n",
       "      <td>0.720029</td>\n",
       "    </tr>\n",
       "    <tr>\n",
       "      <th>3</th>\n",
       "      <td>6</td>\n",
       "      <td>90.0</td>\n",
       "      <td>12.9410</td>\n",
       "      <td>5.0</td>\n",
       "      <td>0.000016</td>\n",
       "      <td>10.797683</td>\n",
       "      <td>1.032218</td>\n",
       "    </tr>\n",
       "    <tr>\n",
       "      <th>4</th>\n",
       "      <td>F</td>\n",
       "      <td>90.0</td>\n",
       "      <td>19.4114</td>\n",
       "      <td>5.0</td>\n",
       "      <td>0.000016</td>\n",
       "      <td>14.095079</td>\n",
       "      <td>2.017568</td>\n",
       "    </tr>\n",
       "  </tbody>\n",
       "</table>\n",
       "</div>"
      ],
      "text/plain": [
       "  n [count]  H [mm]   b [mm]  d [mm]  γ [N/mm3]   Pmax [N]    P0 [N]\n",
       "0         3    90.0  19.4114     5.0   0.000016   9.080644  0.046939\n",
       "1         3    90.0  12.9410     5.0   0.000016   8.758713  0.154249\n",
       "2         6    90.0  19.4114     5.0   0.000016  11.753734  0.720029\n",
       "3         6    90.0  12.9410     5.0   0.000016  10.797683  1.032218\n",
       "4         F    90.0  19.4114     5.0   0.000016  14.095079  2.017568"
      ]
     },
     "execution_count": 18,
     "metadata": {},
     "output_type": "execute_result"
    }
   ],
   "source": [
    "def read(file):\n",
    "    return pd.read_csv(file)\n",
    "\n",
    "#features.set_index(['Index'], inplace = True)\n",
    "#features.drop(columns = ['Index'], inplace = True)\n",
    "\n",
    "features = read('unique_best_features.csv')\n",
    "features.head(5)"
   ]
  },
  {
   "cell_type": "code",
   "execution_count": 19,
   "metadata": {},
   "outputs": [
    {
     "name": "stdout",
     "output_type": "stream",
     "text": [
      "The shape of our feature is (177, 7)\n"
     ]
    }
   ],
   "source": [
    "def print_shape(data):\n",
    "    print(\"The shape of our feature is \" + str(data.shape))\n",
    "\n",
    "print_shape(features)"
   ]
  },
  {
   "cell_type": "code",
   "execution_count": 20,
   "metadata": {},
   "outputs": [
    {
     "data": {
      "text/plain": [
       "array(['n [count]', 'H [mm]', 'b [mm]', 'd [mm]', 'γ [N/mm3]', 'Pmax [N]',\n",
       "       'P0 [N]'], dtype=object)"
      ]
     },
     "execution_count": 20,
     "metadata": {},
     "output_type": "execute_result"
    }
   ],
   "source": [
    "#summary statistics\n",
    "features.describe()\n",
    "features.columns.values"
   ]
  },
  {
   "cell_type": "code",
   "execution_count": 21,
   "metadata": {},
   "outputs": [],
   "source": [
    "#pd.options.display.max_rows = 181\n",
    "pd.options.display.max_columns = 30\n",
    "#features.sort_values(by = \"L [mm]\", ascending = True, inplace = True)\n",
    "#display(features)"
   ]
  },
  {
   "cell_type": "code",
   "execution_count": 22,
   "metadata": {},
   "outputs": [],
   "source": [
    "#one hot encoding\n",
    "pd.options.display.max_columns = 181\n",
    "pd.options.display.max_rows = 181\n",
    "#features = pd.get_dummies(features, columns = ['n [count]', 'Material'])\n",
    "features = pd.get_dummies(features, columns = ['n [count]'])\n",
    "#features = pd.get_dummies(features, columns = ['Material'])\n",
    "#features.head(5)\n",
    "#display(features)\n",
    "#print_shape(features)"
   ]
  },
  {
   "cell_type": "code",
   "execution_count": 23,
   "metadata": {},
   "outputs": [
    {
     "name": "stdout",
     "output_type": "stream",
     "text": [
      "The shape of our feature is (177, 11)\n"
     ]
    }
   ],
   "source": [
    "#target pmax\n",
    "pmax = features['Pmax [N]']\n",
    "#Remove labels from the features\n",
    "features = features.drop('Pmax [N]', axis = 1)\n",
    "\n",
    "features = StandardScaler().fit_transform(features)\n",
    "\n",
    "#pca = PCA(n_components = 11)\n",
    "#principalComponents = pca.fit_transform(features)\n",
    "#features = pd.DataFrame(data = principalComponents, columns = ['pc1', 'pc2','pc3','pc4','pc5','pc6','pc7','pc8','pc9','pc10','pc11'])\n",
    "#display(features)\n",
    "#print(pca.explained_variance_ratio_.cumsum())\n",
    "\n",
    "#Covert to numpy arrays\n",
    "#features = np.array(features)\n",
    "\n",
    "\n",
    "\n",
    "#print(features)\n",
    "print_shape(features)"
   ]
  },
  {
   "cell_type": "code",
   "execution_count": 24,
   "metadata": {},
   "outputs": [],
   "source": [
    "#split the data into training set and testing set \n",
    "train_features, test_features, train_labels, test_labels = train_test_split(features, pmax, test_size = 0.25, random_state = 42)"
   ]
  },
  {
   "cell_type": "code",
   "execution_count": 25,
   "metadata": {},
   "outputs": [
    {
     "name": "stdout",
     "output_type": "stream",
     "text": [
      "Mean Absolute Error: 3.17 newton.\n",
      "Accuracy: 86.31 %.\n"
     ]
    }
   ],
   "source": [
    "rf = RandomForestRegressor(n_estimators = 281, random_state = 187)\n",
    "rf.fit(train_features, train_labels)\n",
    "#Make Predictions\n",
    "#Use the forest's predict method on the test data \n",
    "predictions = rf.predict(test_features)\n",
    "\n",
    "#Calculate the absolute errors\n",
    "errors = abs(predictions - test_labels)\n",
    "\n",
    "#print out the mean absolute error\n",
    "print('Mean Absolute Error:', round(np.mean(errors), 2), 'newton.')\n",
    "# Calculate mean absolute percentage error\n",
    "mape = 100 * (errors / test_labels)\n",
    "\n",
    "# Calculate and display accuracy\n",
    "accuracy = 100 - np.mean(mape)\n",
    "print('Accuracy:', round(accuracy, 2), '%.')"
   ]
  },
  {
   "cell_type": "code",
   "execution_count": 26,
   "metadata": {},
   "outputs": [
    {
     "name": "stdout",
     "output_type": "stream",
     "text": [
      "[0.90789051 0.89347768 0.68629347 0.78959391 0.80871435]\n",
      "Mean 10-fold R squared :0.8171939817072079\n"
     ]
    }
   ],
   "source": [
    "from sklearn.model_selection import cross_val_score\n",
    "from sklearn.model_selection import KFold\n",
    "cv_r2_scores_rf = cross_val_score(rf, features, pmax, cv = 5)\n",
    "print(cv_r2_scores_rf)\n",
    "print(\"Mean 10-fold R squared :{}\". format(np.mean(cv_r2_scores_rf)))"
   ]
  },
  {
   "cell_type": "code",
   "execution_count": 27,
   "metadata": {},
   "outputs": [],
   "source": [
    "number_of_splits = []\n",
    "mean_score = []"
   ]
  },
  {
   "cell_type": "code",
   "execution_count": 28,
   "metadata": {},
   "outputs": [
    {
     "name": "stdout",
     "output_type": "stream",
     "text": [
      "Scores from each Iteration:  [0.8507520576183741, 0.8850868516503871, 0.8861957264095589, 0.8628645108306175, 0.9099721803713684]\n",
      "Average K-Fold Score : 0.8789742653760613\n",
      "Scores from each Iteration:  [0.8989326373305938, 0.8429726952250348, 0.9174117163104025, 0.8923594655664505, 0.9069915873141261]\n",
      "Average K-Fold Score : 0.8917336203493216\n"
     ]
    },
    {
     "name": "stderr",
     "output_type": "stream",
     "text": [
      "C:\\Users\\fmh\\Anaconda3\\lib\\site-packages\\sklearn\\ensemble\\forest.py:245: FutureWarning: The default value of n_estimators will change from 10 in version 0.20 to 100 in 0.22.\n",
      "  \"10 in version 0.20 to 100 in 0.22.\", FutureWarning)\n",
      "C:\\Users\\fmh\\Anaconda3\\lib\\site-packages\\sklearn\\ensemble\\forest.py:245: FutureWarning: The default value of n_estimators will change from 10 in version 0.20 to 100 in 0.22.\n",
      "  \"10 in version 0.20 to 100 in 0.22.\", FutureWarning)\n",
      "C:\\Users\\fmh\\Anaconda3\\lib\\site-packages\\sklearn\\ensemble\\forest.py:245: FutureWarning: The default value of n_estimators will change from 10 in version 0.20 to 100 in 0.22.\n",
      "  \"10 in version 0.20 to 100 in 0.22.\", FutureWarning)\n"
     ]
    },
    {
     "name": "stdout",
     "output_type": "stream",
     "text": [
      "Scores from each Iteration:  [0.9428340191222638, 0.9062192288661012, 0.904226128646391, 0.8966982177764853, 0.8638221178033503]\n",
      "Average K-Fold Score : 0.9027599424429182\n",
      "Scores from each Iteration:  [0.7898891657356046, 0.9327598279265302, 0.8386278169241969, 0.8999054878634858, 0.9760141253724205]\n",
      "Average K-Fold Score : 0.8874392847644476\n",
      "Scores from each Iteration:  [0.794504408311654, 0.831707195789048, 0.8903873800463629, 0.960229438874028, 0.91811763226337]\n",
      "Average K-Fold Score : 0.8789892110568926\n"
     ]
    },
    {
     "name": "stderr",
     "output_type": "stream",
     "text": [
      "C:\\Users\\fmh\\Anaconda3\\lib\\site-packages\\sklearn\\ensemble\\forest.py:245: FutureWarning: The default value of n_estimators will change from 10 in version 0.20 to 100 in 0.22.\n",
      "  \"10 in version 0.20 to 100 in 0.22.\", FutureWarning)\n",
      "C:\\Users\\fmh\\Anaconda3\\lib\\site-packages\\sklearn\\ensemble\\forest.py:245: FutureWarning: The default value of n_estimators will change from 10 in version 0.20 to 100 in 0.22.\n",
      "  \"10 in version 0.20 to 100 in 0.22.\", FutureWarning)\n",
      "C:\\Users\\fmh\\Anaconda3\\lib\\site-packages\\sklearn\\ensemble\\forest.py:245: FutureWarning: The default value of n_estimators will change from 10 in version 0.20 to 100 in 0.22.\n",
      "  \"10 in version 0.20 to 100 in 0.22.\", FutureWarning)\n"
     ]
    },
    {
     "name": "stdout",
     "output_type": "stream",
     "text": [
      "Scores from each Iteration:  [0.8886475438930181, 0.933401678151431, 0.8315854452543406, 0.8219975971573508, 0.9513819019996924]\n",
      "Average K-Fold Score : 0.8854028332911665\n",
      "Scores from each Iteration:  [0.89453784959518, 0.8705552862256021, 0.952506843005945, 0.7918389954580989, 0.9366499858153028]\n",
      "Average K-Fold Score : 0.8892177920200257\n",
      "Scores from each Iteration:  [0.9408646073525044, 0.9521892351205714, 0.9031731745470357, 0.9355687017223759, 0.9766050791696513]\n",
      "Average K-Fold Score : 0.9416801595824278\n",
      "Scores from each Iteration: "
     ]
    },
    {
     "name": "stderr",
     "output_type": "stream",
     "text": [
      "C:\\Users\\fmh\\Anaconda3\\lib\\site-packages\\sklearn\\ensemble\\forest.py:245: FutureWarning: The default value of n_estimators will change from 10 in version 0.20 to 100 in 0.22.\n",
      "  \"10 in version 0.20 to 100 in 0.22.\", FutureWarning)\n",
      "C:\\Users\\fmh\\Anaconda3\\lib\\site-packages\\sklearn\\ensemble\\forest.py:245: FutureWarning: The default value of n_estimators will change from 10 in version 0.20 to 100 in 0.22.\n",
      "  \"10 in version 0.20 to 100 in 0.22.\", FutureWarning)\n",
      "C:\\Users\\fmh\\Anaconda3\\lib\\site-packages\\sklearn\\ensemble\\forest.py:245: FutureWarning: The default value of n_estimators will change from 10 in version 0.20 to 100 in 0.22.\n",
      "  \"10 in version 0.20 to 100 in 0.22.\", FutureWarning)\n"
     ]
    },
    {
     "name": "stdout",
     "output_type": "stream",
     "text": [
      " [0.9275692240666222, 0.825923837516843, 0.9532911625800942, 0.9671957881332034, 0.8836995413552547]\n",
      "Average K-Fold Score : 0.9115359107304035\n"
     ]
    }
   ],
   "source": [
    "for j in range(2, 11):\n",
    "    kf = KFold(n_splits = j, shuffle = True)\n",
    "    rf_reg = RandomForestRegressor()\n",
    "    scores = []\n",
    "    for i in range(5):\n",
    "        result = next(kf.split(features), None)\n",
    "        x_train = pd.DataFrame(features).iloc[result[0]]\n",
    "        x_test = pd.DataFrame(features).iloc[result[1]]\n",
    "        y_train = pmax.iloc[result[0]]\n",
    "        y_test = pmax.iloc[result[1]]\n",
    "        model = rf_reg.fit(x_train,y_train)\n",
    "        predictions = rf_reg.predict(x_test)\n",
    "        scores.append(model.score(x_test,y_test))\n",
    "    print('Scores from each Iteration: ', scores)\n",
    "    number_of_splits.append(j)\n",
    "    print('Average K-Fold Score :' , np.mean(scores))\n",
    "    mean_score.append(np.mean(scores))"
   ]
  },
  {
   "cell_type": "code",
   "execution_count": 29,
   "metadata": {},
   "outputs": [
    {
     "name": "stdout",
     "output_type": "stream",
     "text": [
      "[2, 3, 4, 5, 6, 7, 8, 9, 10]\n",
      "[0.8789742653760613, 0.8917336203493216, 0.9027599424429182, 0.8874392847644476, 0.8789892110568926, 0.8854028332911665, 0.8892177920200257, 0.9416801595824278, 0.9115359107304035]\n"
     ]
    }
   ],
   "source": [
    "print(number_of_splits)\n",
    "print(mean_score)"
   ]
  },
  {
   "cell_type": "code",
   "execution_count": 30,
   "metadata": {},
   "outputs": [
    {
     "name": "stdout",
     "output_type": "stream",
     "text": [
      "   number of splits  mean classification score\n",
      "0                 2                   0.878974\n",
      "1                 3                   0.891734\n",
      "2                 4                   0.902760\n",
      "3                 5                   0.887439\n",
      "4                 6                   0.878989\n",
      "5                 7                   0.885403\n",
      "6                 8                   0.889218\n",
      "7                 9                   0.941680\n",
      "8                10                   0.911536\n",
      "0.8964147799570737\n"
     ]
    }
   ],
   "source": [
    "k_fold = {'number of splits': number_of_splits, 'mean classification score': mean_score}\n",
    "df = DataFrame(k_fold, columns= ['number of splits', 'mean classification score'])\n",
    "print(df)\n",
    "print(np.mean(mean_score))"
   ]
  },
  {
   "cell_type": "code",
   "execution_count": 31,
   "metadata": {},
   "outputs": [],
   "source": [
    "#export_csv = df.to_csv (r'/Users/zhenjiang/Desktop/cx4240/Project/export_dataframe.csv', index = None, header=True)"
   ]
  },
  {
   "cell_type": "code",
   "execution_count": 36,
   "metadata": {},
   "outputs": [],
   "source": [
    "x = df[\"number of splits\"]\n",
    "y = df[\"mean classification score\"]"
   ]
  },
  {
   "cell_type": "code",
   "execution_count": 45,
   "metadata": {},
   "outputs": [
    {
     "data": {
      "image/png": "[encoded data removed]",
      "text/plain": [
       "<Figure size 1440x792 with 1 Axes>"
      ]
     },
     "metadata": {
      "needs_background": "light"
     },
     "output_type": "display_data"
    }
   ],
   "source": [
    "fig = plt.figure(figsize=(20,11))\n",
    "plt.xlabel(\"number of splits\", fontsize = 25)\n",
    "plt.ylabel(\"mean classification score\", fontsize = 25)\n",
    "plt.title(\"Random Forest with K-fold Validation\", fontsize = 25)\n",
    "plt.plot(x, y, color = \"g\")\n",
    "plt.tick_params(axis=\"x\", colors='r', labelsize = 30)\n",
    "plt.tick_params(axis=\"y\", colors = \"b\" , labelsize = 20)\n",
    "\n",
    "\n",
    "plt.savefig(\"K-fold_validation.png\")"
   ]
  },
  {
   "cell_type": "code",
   "execution_count": 32,
   "metadata": {},
   "outputs": [],
   "source": [
    "#import seaborn as sns"
   ]
  },
  {
   "cell_type": "code",
   "execution_count": 33,
   "metadata": {},
   "outputs": [],
   "source": [
    "\n",
    "#df = pd.read_csv(\"export_dataframe.csv\")\n",
    "#sns.set_palette(\"husl\")\n",
    "#sns.set_style('white')\n",
    "#sns.set_style('ticks')\n",
    "#ax = sns.lineplot(x=\"number of splits\", y= 'mean classification score', data= df )\n",
    "#fig = ax.get_figure()\n",
    "#fig.savefig(\"kfold.png\")"
   ]
  }
 ],
 "metadata": {
  "kernelspec": {
   "display_name": "Python 3",
   "language": "python",
   "name": "python3"
  },
  "language_info": {
   "codemirror_mode": {
    "name": "ipython",
    "version": 3
   },
   "file_extension": ".py",
   "mimetype": "text/x-python",
   "name": "python",
   "nbconvert_exporter": "python",
   "pygments_lexer": "ipython3",
   "version": "3.6.8"
  }
 },
 "nbformat": 4,
 "nbformat_minor": 2
}
