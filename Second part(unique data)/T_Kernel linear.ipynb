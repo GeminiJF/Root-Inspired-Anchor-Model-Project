{
 "cells": [
  {
   "cell_type": "code",
   "execution_count": 1,
   "metadata": {},
   "outputs": [],
   "source": [
    "import pandas as pd\n",
    "from pandas.plotting import radviz\n",
    "import matplotlib.pyplot as plt\n",
    "import numpy as np\n",
    "from sklearn.model_selection import train_test_split\n",
    "#import the model we are using\n",
    "from sklearn.ensemble import RandomForestRegressor\n",
    "from sklearn import svm, preprocessing\n",
    "from sklearn.decomposition import PCA\n",
    "from sklearn.preprocessing import StandardScaler\n",
    "from sklearn import linear_model\n",
    "from sklearn.ensemble import BaggingClassifier\n",
    "from sklearn.tree import DecisionTreeClassifier\n",
    "from pandas import DataFrame"
   ]
  },
  {
   "cell_type": "code",
   "execution_count": 2,
   "metadata": {},
   "outputs": [
    {
     "data": {
      "text/html": [
       "<div>\n",
       "<style scoped>\n",
       "    .dataframe tbody tr th:only-of-type {\n",
       "        vertical-align: middle;\n",
       "    }\n",
       "\n",
       "    .dataframe tbody tr th {\n",
       "        vertical-align: top;\n",
       "    }\n",
       "\n",
       "    .dataframe thead th {\n",
       "        text-align: right;\n",
       "    }\n",
       "</style>\n",
       "<table border=\"1\" class=\"dataframe\">\n",
       "  <thead>\n",
       "    <tr style=\"text-align: right;\">\n",
       "      <th></th>\n",
       "      <th>n [count]</th>\n",
       "      <th>H [mm]</th>\n",
       "      <th>b [mm]</th>\n",
       "      <th>d [mm]</th>\n",
       "      <th>γ [N/mm3]</th>\n",
       "      <th>Pmax [N]</th>\n",
       "      <th>P0 [N]</th>\n",
       "    </tr>\n",
       "  </thead>\n",
       "  <tbody>\n",
       "    <tr>\n",
       "      <th>0</th>\n",
       "      <td>3</td>\n",
       "      <td>90.0</td>\n",
       "      <td>19.4114</td>\n",
       "      <td>5.0</td>\n",
       "      <td>0.000016</td>\n",
       "      <td>9.080644</td>\n",
       "      <td>0.046939</td>\n",
       "    </tr>\n",
       "    <tr>\n",
       "      <th>1</th>\n",
       "      <td>3</td>\n",
       "      <td>90.0</td>\n",
       "      <td>12.9410</td>\n",
       "      <td>5.0</td>\n",
       "      <td>0.000016</td>\n",
       "      <td>8.758713</td>\n",
       "      <td>0.154249</td>\n",
       "    </tr>\n",
       "    <tr>\n",
       "      <th>2</th>\n",
       "      <td>6</td>\n",
       "      <td>90.0</td>\n",
       "      <td>19.4114</td>\n",
       "      <td>5.0</td>\n",
       "      <td>0.000016</td>\n",
       "      <td>11.753734</td>\n",
       "      <td>0.720029</td>\n",
       "    </tr>\n",
       "    <tr>\n",
       "      <th>3</th>\n",
       "      <td>6</td>\n",
       "      <td>90.0</td>\n",
       "      <td>12.9410</td>\n",
       "      <td>5.0</td>\n",
       "      <td>0.000016</td>\n",
       "      <td>10.797683</td>\n",
       "      <td>1.032218</td>\n",
       "    </tr>\n",
       "    <tr>\n",
       "      <th>4</th>\n",
       "      <td>F</td>\n",
       "      <td>90.0</td>\n",
       "      <td>19.4114</td>\n",
       "      <td>5.0</td>\n",
       "      <td>0.000016</td>\n",
       "      <td>14.095079</td>\n",
       "      <td>2.017568</td>\n",
       "    </tr>\n",
       "  </tbody>\n",
       "</table>\n",
       "</div>"
      ],
      "text/plain": [
       "  n [count]  H [mm]   b [mm]  d [mm]  γ [N/mm3]   Pmax [N]    P0 [N]\n",
       "0         3    90.0  19.4114     5.0   0.000016   9.080644  0.046939\n",
       "1         3    90.0  12.9410     5.0   0.000016   8.758713  0.154249\n",
       "2         6    90.0  19.4114     5.0   0.000016  11.753734  0.720029\n",
       "3         6    90.0  12.9410     5.0   0.000016  10.797683  1.032218\n",
       "4         F    90.0  19.4114     5.0   0.000016  14.095079  2.017568"
      ]
     },
     "execution_count": 2,
     "metadata": {},
     "output_type": "execute_result"
    }
   ],
   "source": [
    "def read(file):\n",
    "    return pd.read_csv(file)\n",
    "\n",
    "#features.set_index(['Index'], inplace = True)\n",
    "#features.drop(columns = ['Index'], inplace = True)\n",
    "\n",
    "features = read('unique_best_features.csv')\n",
    "features.head(5)"
   ]
  },
  {
   "cell_type": "code",
   "execution_count": 3,
   "metadata": {},
   "outputs": [],
   "source": [
    "#one hot encoding\n",
    "pd.options.display.max_columns = 181\n",
    "pd.options.display.max_rows = 181\n",
    "#features = pd.get_dummies(features, columns = ['n [count]', 'Material'])\n",
    "features = pd.get_dummies(features, columns = ['n [count]'])\n",
    "#features = pd.get_dummies(features, columns = ['Material'])"
   ]
  },
  {
   "cell_type": "code",
   "execution_count": 4,
   "metadata": {},
   "outputs": [],
   "source": [
    "#target pmax\n",
    "pmax = np.array(features['Pmax [N]'])\n",
    "#Remove labels from the features\n",
    "features = features.drop('Pmax [N]', axis = 1)\n",
    "\n",
    "features = StandardScaler().fit_transform(features)\n",
    "\n",
    "#pca = PCA(n_components = 11)\n",
    "#principalComponents = pca.fit_transform(features)\n",
    "#features = pd.DataFrame(data = principalComponents, columns = ['pc1', 'pc2','pc3','pc4','pc5','pc6','pc7','pc8','pc9','pc10','pc11'])\n",
    "#display(features)\n",
    "#print(pca.explained_variance_ratio_.cumsum())\n",
    "\n",
    "#Covert to numpy arrays\n",
    "features = np.array(features)\n",
    "\n",
    "\n"
   ]
  },
  {
   "cell_type": "code",
   "execution_count": 5,
   "metadata": {},
   "outputs": [],
   "source": [
    "#split the data into training set and testing set \n",
    "train_features, test_features, train_labels, test_labels = train_test_split(features, pmax, test_size = 0.25, random_state = 42)"
   ]
  },
  {
   "cell_type": "code",
   "execution_count": 6,
   "metadata": {},
   "outputs": [
    {
     "name": "stdout",
     "output_type": "stream",
     "text": [
      "Training Features Shape: (132, 11)\n",
      "Training Labels Shape: (132,)\n",
      "Testing Features Shape: (45, 11)\n",
      "Testing Labels Shape: (45,)\n"
     ]
    }
   ],
   "source": [
    "print('Training Features Shape:', train_features.shape)\n",
    "print('Training Labels Shape:', train_labels.shape)\n",
    "print('Testing Features Shape:', test_features.shape)\n",
    "print('Testing Labels Shape:', test_labels.shape)"
   ]
  },
  {
   "cell_type": "code",
   "execution_count": 7,
   "metadata": {},
   "outputs": [
    {
     "name": "stdout",
     "output_type": "stream",
     "text": [
      "0.8975517847402235\n"
     ]
    }
   ],
   "source": [
    "clf = svm.SVR(kernel = \"linear\")\n",
    "clf.fit(train_features,train_labels)\n",
    "print(clf.score(train_features, train_labels))"
   ]
  },
  {
   "cell_type": "code",
   "execution_count": 8,
   "metadata": {},
   "outputs": [
    {
     "name": "stdout",
     "output_type": "stream",
     "text": [
      "Model: 16.834775983838625, Actual: 16.465722631585038\n",
      "Model: 10.848464279593413, Actual: 10.497081539108782\n",
      "Model: 9.58044116396237, Actual: 9.639485549900499\n",
      "Model: 36.171371749509035, Actual: 42.357748607195\n",
      "Model: 0.4085695644600378, Actual: 6.063413449065\n",
      "Model: 25.062632939866887, Actual: 26.367723489059344\n",
      "Model: 8.9900199997384, Actual: 7.934872992134267\n",
      "Model: 67.04419053228565, Actual: 51.879055492810004\n",
      "Model: 8.445228553396412, Actual: 7.861187715016644\n",
      "Model: 12.12431348129463, Actual: 13.370124772445\n",
      "Model: 19.12370823628995, Actual: 14.934077561135252\n",
      "Model: 25.934371910108027, Actual: 20.180180267904998\n",
      "Model: 21.76794466620199, Actual: 21.94836557635784\n",
      "Model: 6.754582219557914, Actual: 5.702605711267501\n",
      "Model: 14.868158909330512, Actual: 13.890200587874556\n",
      "Model: 15.311144961972456, Actual: 15.198136307690001\n",
      "Model: 12.139696901037773, Actual: 13.187881911505\n",
      "Model: 25.188411616737785, Actual: 23.019568288955004\n",
      "Model: 12.973138262341333, Actual: 12.050443881944995\n",
      "Model: 31.514424638825417, Actual: 30.124631352375\n",
      "Model: 41.3649883774168, Actual: 46.467243922330006\n",
      "Model: 16.629592682774142, Actual: 17.460815900375117\n",
      "Model: 31.641662728983896, Actual: 36.432825650095\n",
      "Model: 49.721948919058114, Actual: 42.290900596805\n",
      "Model: 62.41615865168363, Actual: 50.766841147715006\n",
      "Model: 14.254592523534837, Actual: 12.186581856641498\n",
      "Model: 48.98732334880059, Actual: 52.199373043754996\n",
      "Model: 18.426491434090035, Actual: 17.480300468688483\n",
      "Model: 57.112659688543815, Actual: 66.92157595564\n",
      "Model: 18.996562716000618, Actual: 17.616838348724496\n",
      "Model: 26.754571197398725, Actual: 25.433287879439998\n",
      "Model: 12.371327255365639, Actual: 11.12583075135\n",
      "Model: 21.852332964366497, Actual: 17.90312419049\n",
      "Model: 4.9202867229071074, Actual: 6.788083222051872\n",
      "Model: 34.92270619168832, Actual: 35.88357970022001\n",
      "Model: 17.918653840572986, Actual: 18.016852715170874\n",
      "Model: 40.25533591157925, Actual: 36.44491234621999\n",
      "Model: 6.176382552823444, Actual: 6.404842363863999\n",
      "Model: 8.967801512061463, Actual: 8.748970178652105\n",
      "Model: 30.73748763475841, Actual: 29.224511310820002\n",
      "Model: 40.56824826037824, Actual: 47.88742336203\n",
      "Model: 13.33161292633712, Actual: 11.529370881281128\n",
      "Model: 35.99503723035818, Actual: 36.89477084034\n",
      "Model: 6.790942971262147, Actual: 9.903385737595\n",
      "Model: 27.248846015359753, Actual: 25.342783287255006\n",
      "Mean Absolute error: 2.83 newton.\n",
      "Accuracy: 81.48 %.\n",
      "[16.83477598 10.84846428  9.58044116 36.17137175  0.40856956 25.06263294\n",
      "  8.99002    67.04419053  8.44522855 12.12431348 19.12370824 25.93437191\n",
      " 21.76794467  6.75458222 14.86815891 15.31114496 12.1396969  25.18841162\n",
      " 12.97313826 31.51442464 41.36498838 16.62959268 31.64166273 49.72194892\n",
      " 62.41615865 14.25459252 48.98732335 18.42649143 57.11265969 18.99656272\n",
      " 26.7545712  12.37132726 21.85233296  4.92028672 34.92270619 17.91865384\n",
      " 40.25533591  6.17638255  8.96780151 30.73748763 40.56824826 13.33161293\n",
      " 35.99503723  6.79094297 27.24884602]\n",
      "[16.46572263 10.49708154  9.63948555 42.35774861  6.06341345 26.36772349\n",
      "  7.93487299 51.87905549  7.86118772 13.37012477 14.93407756 20.18018027\n",
      " 21.94836558  5.70260571 13.89020059 15.19813631 13.18788191 23.01956829\n",
      " 12.05044388 30.12463135 46.46724392 17.4608159  36.43282565 42.2909006\n",
      " 50.76684115 12.18658186 52.19937304 17.48030047 66.92157596 17.61683835\n",
      " 25.43328788 11.12583075 17.90312419  6.78808322 35.8835797  18.01685272\n",
      " 36.44491235  6.40484236  8.74897018 29.22451131 47.88742336 11.52937088\n",
      " 36.89477084  9.90338574 25.34278329]\n"
     ]
    }
   ],
   "source": [
    "\n",
    "errors = 0\n",
    "pmax_pred = np.empty(test_labels.shape)\n",
    "i = 0\n",
    "for X,y in zip(test_features, test_labels):\n",
    "    print(f\"Model: {clf.predict([X])[0]}, Actual: {y}\")\n",
    "    errors += abs(clf.predict([X])[0] - y)\n",
    "    pmax_pred[i] = clf.predict([X])[0]\n",
    "    i += 1\n",
    "errors = errors / test_features.shape[0]\n",
    "\n",
    "print('Mean Absolute error:',round(errors, 2) , 'newton.')\n",
    "\n",
    "# Calculate mean absolute percentage error\n",
    "mape = 100 * (errors / test_labels)\n",
    "\n",
    "# Calculate and display accuracy\n",
    "accuracy = 100 - np.mean(mape)\n",
    "print('Accuracy:', round(accuracy, 2), '%.')\n",
    "print(pmax_pred)\n",
    "print(test_labels)\n"
   ]
  },
  {
   "cell_type": "code",
   "execution_count": 9,
   "metadata": {},
   "outputs": [],
   "source": [
    "new = DataFrame(pmax_pred, test_labels)\n",
    "new.to_csv(\"line_to_scatter_converter.csv\")"
   ]
  },
  {
   "cell_type": "code",
   "execution_count": 11,
   "metadata": {},
   "outputs": [
    {
     "data": {
      "image/png": "[encoded data removed]",
      "text/plain": [
       "<Figure size 1440x792 with 1 Axes>"
      ]
     },
     "metadata": {
      "needs_background": "light"
     },
     "output_type": "display_data"
    }
   ],
   "source": [
    "fig = plt.figure(figsize=(20,11))\n",
    "plt.xlabel(\"Test Datapoints\", fontsize = 25)\n",
    "plt.ylabel(\"Pmax\", fontsize = 25)\n",
    "plt.title(\"Linear Regression Prediction vs Actual Values\", fontsize = 25)\n",
    "\n",
    "plt.scatter(index, pmax_pred, color = \"r\", label = \"Predictive Model\", marker = \"x\", s = 100)\n",
    "plt.scatter(index, label, color = \"b\", alpha = 0.7, label = \"Test Label\")\n",
    "\n",
    "plt.legend(loc = 2, prop = {\"size\" : 20})\n",
    "\n",
    "\n",
    "\n",
    "plt.savefig(\"Linear_Regression_Plot.png\")"
   ]
  },
  {
   "cell_type": "code",
   "execution_count": 10,
   "metadata": {},
   "outputs": [],
   "source": [
    "mid = pd.read_csv(\"line_to_scatter_converter.csv\")\n",
    "mid.sort_values(by = \"truth\", inplace = True)\n",
    "mid.to_csv(\"lts_sort.csv\", index = False)\n",
    "final = pd.read_csv(\"lts_sort.csv\")\n",
    "index = final.index\n",
    "pmax_pred = final[\"predict\"]\n",
    "label = final[\"truth\"]"
   ]
  },
  {
   "cell_type": "code",
   "execution_count": null,
   "metadata": {},
   "outputs": [],
   "source": []
  }
 ],
 "metadata": {
  "kernelspec": {
   "display_name": "Python 3",
   "language": "python",
   "name": "python3"
  },
  "language_info": {
   "codemirror_mode": {
    "name": "ipython",
    "version": 3
   },
   "file_extension": ".py",
   "mimetype": "text/x-python",
   "name": "python",
   "nbconvert_exporter": "python",
   "pygments_lexer": "ipython3",
   "version": "3.6.8"
  }
 },
 "nbformat": 4,
 "nbformat_minor": 2
}
