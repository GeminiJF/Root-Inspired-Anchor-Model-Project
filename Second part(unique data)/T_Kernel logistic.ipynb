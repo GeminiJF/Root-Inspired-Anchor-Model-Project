{
 "cells": [
  {
   "cell_type": "code",
   "execution_count": 1,
   "metadata": {},
   "outputs": [],
   "source": [
    "import pandas as pd\n",
    "from pandas.plotting import radviz\n",
    "import matplotlib.pyplot as plt\n",
    "import numpy as np\n",
    "from sklearn.model_selection import train_test_split\n",
    "#import the model we are using\n",
    "from sklearn.ensemble import RandomForestRegressor\n",
    "from sklearn import svm, preprocessing\n",
    "from sklearn.decomposition import PCA\n",
    "from sklearn.preprocessing import StandardScaler\n",
    "from sklearn import linear_model\n",
    "from sklearn.ensemble import BaggingClassifier\n",
    "from sklearn.tree import DecisionTreeClassifier\n",
    "from pandas import DataFrame"
   ]
  },
  {
   "cell_type": "code",
   "execution_count": 2,
   "metadata": {},
   "outputs": [
    {
     "data": {
      "text/html": [
       "<div>\n",
       "<style scoped>\n",
       "    .dataframe tbody tr th:only-of-type {\n",
       "        vertical-align: middle;\n",
       "    }\n",
       "\n",
       "    .dataframe tbody tr th {\n",
       "        vertical-align: top;\n",
       "    }\n",
       "\n",
       "    .dataframe thead th {\n",
       "        text-align: right;\n",
       "    }\n",
       "</style>\n",
       "<table border=\"1\" class=\"dataframe\">\n",
       "  <thead>\n",
       "    <tr style=\"text-align: right;\">\n",
       "      <th></th>\n",
       "      <th>n [count]</th>\n",
       "      <th>H [mm]</th>\n",
       "      <th>b [mm]</th>\n",
       "      <th>d [mm]</th>\n",
       "      <th>γ [N/mm3]</th>\n",
       "      <th>Pmax [N]</th>\n",
       "      <th>P0 [N]</th>\n",
       "    </tr>\n",
       "  </thead>\n",
       "  <tbody>\n",
       "    <tr>\n",
       "      <th>0</th>\n",
       "      <td>3</td>\n",
       "      <td>90.0</td>\n",
       "      <td>19.4114</td>\n",
       "      <td>5.0</td>\n",
       "      <td>0.000016</td>\n",
       "      <td>9.080644</td>\n",
       "      <td>0.046939</td>\n",
       "    </tr>\n",
       "    <tr>\n",
       "      <th>1</th>\n",
       "      <td>3</td>\n",
       "      <td>90.0</td>\n",
       "      <td>12.9410</td>\n",
       "      <td>5.0</td>\n",
       "      <td>0.000016</td>\n",
       "      <td>8.758713</td>\n",
       "      <td>0.154249</td>\n",
       "    </tr>\n",
       "    <tr>\n",
       "      <th>2</th>\n",
       "      <td>6</td>\n",
       "      <td>90.0</td>\n",
       "      <td>19.4114</td>\n",
       "      <td>5.0</td>\n",
       "      <td>0.000016</td>\n",
       "      <td>11.753734</td>\n",
       "      <td>0.720029</td>\n",
       "    </tr>\n",
       "    <tr>\n",
       "      <th>3</th>\n",
       "      <td>6</td>\n",
       "      <td>90.0</td>\n",
       "      <td>12.9410</td>\n",
       "      <td>5.0</td>\n",
       "      <td>0.000016</td>\n",
       "      <td>10.797683</td>\n",
       "      <td>1.032218</td>\n",
       "    </tr>\n",
       "    <tr>\n",
       "      <th>4</th>\n",
       "      <td>F</td>\n",
       "      <td>90.0</td>\n",
       "      <td>19.4114</td>\n",
       "      <td>5.0</td>\n",
       "      <td>0.000016</td>\n",
       "      <td>14.095079</td>\n",
       "      <td>2.017568</td>\n",
       "    </tr>\n",
       "  </tbody>\n",
       "</table>\n",
       "</div>"
      ],
      "text/plain": [
       "  n [count]  H [mm]   b [mm]  d [mm]  γ [N/mm3]   Pmax [N]    P0 [N]\n",
       "0         3    90.0  19.4114     5.0   0.000016   9.080644  0.046939\n",
       "1         3    90.0  12.9410     5.0   0.000016   8.758713  0.154249\n",
       "2         6    90.0  19.4114     5.0   0.000016  11.753734  0.720029\n",
       "3         6    90.0  12.9410     5.0   0.000016  10.797683  1.032218\n",
       "4         F    90.0  19.4114     5.0   0.000016  14.095079  2.017568"
      ]
     },
     "execution_count": 2,
     "metadata": {},
     "output_type": "execute_result"
    }
   ],
   "source": [
    "def read(file):\n",
    "    return pd.read_csv(file)\n",
    "\n",
    "#features.set_index(['Index'], inplace = True)\n",
    "#features.drop(columns = ['Index'], inplace = True)\n",
    "\n",
    "features = read('unique_best_features.csv')\n",
    "features.head(5)"
   ]
  },
  {
   "cell_type": "code",
   "execution_count": 3,
   "metadata": {},
   "outputs": [],
   "source": [
    "#one hot encoding\n",
    "pd.options.display.max_columns = 181\n",
    "pd.options.display.max_rows = 181\n",
    "#features = pd.get_dummies(features, columns = ['n [count]', 'Material'])\n",
    "features = pd.get_dummies(features, columns = ['n [count]'])\n",
    "#features = pd.get_dummies(features, columns = ['Material'])"
   ]
  },
  {
   "cell_type": "code",
   "execution_count": 4,
   "metadata": {},
   "outputs": [],
   "source": [
    "#target pmax\n",
    "pmax = np.array(features['Pmax [N]'])\n",
    "#Remove labels from the features\n",
    "features = features.drop('Pmax [N]', axis = 1)\n",
    "\n",
    "features = StandardScaler().fit_transform(features)\n",
    "\n",
    "#pca = PCA(n_components = 11)\n",
    "#principalComponents = pca.fit_transform(features)\n",
    "#features = pd.DataFrame(data = principalComponents, columns = ['pc1', 'pc2','pc3','pc4','pc5','pc6','pc7','pc8','pc9','pc10','pc11'])\n",
    "#display(features)\n",
    "#print(pca.explained_variance_ratio_.cumsum())\n",
    "\n",
    "#Covert to numpy arrays\n",
    "features = np.array(features)\n",
    "\n",
    "\n"
   ]
  },
  {
   "cell_type": "code",
   "execution_count": 5,
   "metadata": {},
   "outputs": [],
   "source": [
    "#split the data into training set and testing set \n",
    "train_features, test_features, train_labels, test_labels = train_test_split(features, pmax, test_size = 0.25, random_state = 42)"
   ]
  },
  {
   "cell_type": "code",
   "execution_count": 6,
   "metadata": {},
   "outputs": [
    {
     "name": "stdout",
     "output_type": "stream",
     "text": [
      "Training Features Shape: (132, 11)\n",
      "Training Labels Shape: (132,)\n",
      "Testing Features Shape: (45, 11)\n",
      "Testing Labels Shape: (45,)\n"
     ]
    }
   ],
   "source": [
    "print('Training Features Shape:', train_features.shape)\n",
    "print('Training Labels Shape:', train_labels.shape)\n",
    "print('Testing Features Shape:', test_features.shape)\n",
    "print('Testing Labels Shape:', test_labels.shape)"
   ]
  },
  {
   "cell_type": "code",
   "execution_count": 7,
   "metadata": {},
   "outputs": [
    {
     "name": "stdout",
     "output_type": "stream",
     "text": [
      "0.6817358721431492\n"
     ]
    },
    {
     "name": "stderr",
     "output_type": "stream",
     "text": [
      "C:\\Users\\fmh\\Anaconda3\\lib\\site-packages\\sklearn\\svm\\base.py:193: FutureWarning: The default value of gamma will change from 'auto' to 'scale' in version 0.22 to account better for unscaled features. Set gamma explicitly to 'auto' or 'scale' to avoid this warning.\n",
      "  \"avoid this warning.\", FutureWarning)\n"
     ]
    }
   ],
   "source": [
    "clf = svm.SVR(kernel = \"sigmoid\")\n",
    "clf.fit(train_features,train_labels)\n",
    "print(clf.score(train_features, train_labels))"
   ]
  },
  {
   "cell_type": "code",
   "execution_count": 8,
   "metadata": {},
   "outputs": [
    {
     "name": "stdout",
     "output_type": "stream",
     "text": [
      "Model: 16.923306215387, Actual: 16.465722631585038\n",
      "Model: 11.714983358531816, Actual: 10.497081539108782\n",
      "Model: 10.455398334705938, Actual: 9.639485549900499\n",
      "Model: 26.314261234039733, Actual: 42.357748607195\n",
      "Model: 7.566675499222024, Actual: 6.063413449065\n",
      "Model: 21.356038164327845, Actual: 26.367723489059344\n",
      "Model: 10.56259598160946, Actual: 7.934872992134267\n",
      "Model: 47.10355168401402, Actual: 51.879055492810004\n",
      "Model: 8.893644628269026, Actual: 7.861187715016644\n",
      "Model: 15.873154440080299, Actual: 13.370124772445\n",
      "Model: 20.321115009600334, Actual: 14.934077561135252\n",
      "Model: 25.850303116908336, Actual: 20.180180267904998\n",
      "Model: 21.083555422201144, Actual: 21.94836557635784\n",
      "Model: 8.1885877580015, Actual: 5.702605711267501\n",
      "Model: 15.22156643304365, Actual: 13.890200587874556\n",
      "Model: 17.933417520760504, Actual: 15.198136307690001\n",
      "Model: 13.307808706005606, Actual: 13.187881911505\n",
      "Model: 22.785862791270986, Actual: 23.019568288955004\n",
      "Model: 12.694392485784395, Actual: 12.050443881944995\n",
      "Model: 26.338955725575318, Actual: 30.124631352375\n",
      "Model: 30.5712723217151, Actual: 46.467243922330006\n",
      "Model: 16.743532569549107, Actual: 17.460815900375117\n",
      "Model: 24.75789038926361, Actual: 36.432825650095\n",
      "Model: 39.220060383285386, Actual: 42.290900596805\n",
      "Model: 45.185098848945, Actual: 50.766841147715006\n",
      "Model: 14.582328850168034, Actual: 12.186581856641498\n",
      "Model: 34.43406633287918, Actual: 52.199373043754996\n",
      "Model: 17.70240219740876, Actual: 17.480300468688483\n",
      "Model: 42.75466594202754, Actual: 66.92157595564\n",
      "Model: 18.518323512852774, Actual: 17.616838348724496\n",
      "Model: 20.500375909702026, Actual: 25.433287879439998\n",
      "Model: 13.436697610614528, Actual: 11.12583075135\n",
      "Model: 18.405599813146253, Actual: 17.90312419049\n",
      "Model: 9.490905656034625, Actual: 6.788083222051872\n",
      "Model: 25.660481781665275, Actual: 35.88357970022001\n",
      "Model: 17.38174453799337, Actual: 18.016852715170874\n",
      "Model: 33.635436291407736, Actual: 36.44491234621999\n",
      "Model: 7.605686759055514, Actual: 6.404842363863999\n",
      "Model: 10.533387251192119, Actual: 8.748970178652105\n",
      "Model: 26.484001086638607, Actual: 29.224511310820002\n",
      "Model: 30.185600009765096, Actual: 47.88742336203\n",
      "Model: 13.86604200650817, Actual: 11.529370881281128\n",
      "Model: 31.53377032199331, Actual: 36.89477084034\n",
      "Model: 11.878028677416092, Actual: 9.903385737595\n",
      "Model: 23.883317460780827, Actual: 25.342783287255006\n",
      "Mean Absolute error: 4.45 newton.\n",
      "Accuracy: 70.85 %.\n",
      "[16.92330622 11.71498336 10.45539833 26.31426123  7.5666755  21.35603816\n",
      " 10.56259598 47.10355168  8.89364463 15.87315444 20.32111501 25.85030312\n",
      " 21.08355542  8.18858776 15.22156643 17.93341752 13.30780871 22.78586279\n",
      " 12.69439249 26.33895573 30.57127232 16.74353257 24.75789039 39.22006038\n",
      " 45.18509885 14.58232885 34.43406633 17.7024022  42.75466594 18.51832351\n",
      " 20.50037591 13.43669761 18.40559981  9.49090566 25.66048178 17.38174454\n",
      " 33.63543629  7.60568676 10.53338725 26.48400109 30.18560001 13.86604201\n",
      " 31.53377032 11.87802868 23.88331746]\n",
      "[16.46572263 10.49708154  9.63948555 42.35774861  6.06341345 26.36772349\n",
      "  7.93487299 51.87905549  7.86118772 13.37012477 14.93407756 20.18018027\n",
      " 21.94836558  5.70260571 13.89020059 15.19813631 13.18788191 23.01956829\n",
      " 12.05044388 30.12463135 46.46724392 17.4608159  36.43282565 42.2909006\n",
      " 50.76684115 12.18658186 52.19937304 17.48030047 66.92157596 17.61683835\n",
      " 25.43328788 11.12583075 17.90312419  6.78808322 35.8835797  18.01685272\n",
      " 36.44491235  6.40484236  8.74897018 29.22451131 47.88742336 11.52937088\n",
      " 36.89477084  9.90338574 25.34278329]\n"
     ]
    }
   ],
   "source": [
    "\n",
    "errors = 0\n",
    "pmax_pred = np.empty(test_labels.shape)\n",
    "i = 0\n",
    "for X,y in zip(test_features, test_labels):\n",
    "    print(f\"Model: {clf.predict([X])[0]}, Actual: {y}\")\n",
    "    errors += abs(clf.predict([X])[0] - y)\n",
    "    pmax_pred[i] = clf.predict([X])[0]\n",
    "    i += 1\n",
    "errors = errors / test_features.shape[0]\n",
    "\n",
    "print('Mean Absolute error:',round(errors, 2) , 'newton.')\n",
    "\n",
    "# Calculate mean absolute percentage error\n",
    "mape = 100 * (errors / test_labels)\n",
    "\n",
    "# Calculate and display accuracy\n",
    "accuracy = 100 - np.mean(mape)\n",
    "print('Accuracy:', round(accuracy, 2), '%.')\n",
    "print(pmax_pred)\n",
    "print(test_labels)\n"
   ]
  },
  {
   "cell_type": "code",
   "execution_count": 9,
   "metadata": {},
   "outputs": [],
   "source": [
    "new = DataFrame(pmax_pred, test_labels)\n",
    "new.to_csv(\"line_to_scatter_converter.csv\")"
   ]
  },
  {
   "cell_type": "code",
   "execution_count": 11,
   "metadata": {},
   "outputs": [],
   "source": [
    "mid = pd.read_csv(\"line_to_scatter_converter.csv\")\n",
    "mid.sort_values(by = \"truth\", inplace = True)\n",
    "mid.to_csv(\"lts_sort.csv\", index = False)\n",
    "final = pd.read_csv(\"lts_sort.csv\")\n",
    "index = final.index\n",
    "pmax_pred = final[\"predict\"]\n",
    "label = final[\"truth\"]"
   ]
  },
  {
   "cell_type": "code",
   "execution_count": 13,
   "metadata": {},
   "outputs": [
    {
     "data": {
      "image/png": "[encoded data removed]",
      "text/plain": [
       "<Figure size 1440x792 with 1 Axes>"
      ]
     },
     "metadata": {
      "needs_background": "light"
     },
     "output_type": "display_data"
    }
   ],
   "source": [
    "fig = plt.figure(figsize=(20,11))\n",
    "plt.xlabel(\"Test Datapoints\", fontsize = 25)\n",
    "plt.ylabel(\"Pmax\", fontsize = 25)\n",
    "plt.title(\"Kernel Sigmoid Prediction vs Actual Values\", fontsize = 25)\n",
    "\n",
    "plt.scatter(index, pmax_pred, color = \"r\", label = \"Predictive Model\", marker = \"x\", s = 100)\n",
    "plt.scatter(index, label, color = \"b\", alpha = 0.7, label = \"Test Label\")\n",
    "\n",
    "plt.legend(loc = 2, prop = {\"size\" : 20})\n",
    "\n",
    "\n",
    "\n",
    "plt.savefig(\"Kernel_sigmoid_plot.png\")"
   ]
  },
  {
   "cell_type": "code",
   "execution_count": null,
   "metadata": {},
   "outputs": [],
   "source": []
  }
 ],
 "metadata": {
  "kernelspec": {
   "display_name": "Python 3",
   "language": "python",
   "name": "python3"
  },
  "language_info": {
   "codemirror_mode": {
    "name": "ipython",
    "version": 3
   },
   "file_extension": ".py",
   "mimetype": "text/x-python",
   "name": "python",
   "nbconvert_exporter": "python",
   "pygments_lexer": "ipython3",
   "version": "3.6.8"
  }
 },
 "nbformat": 4,
 "nbformat_minor": 2
}
