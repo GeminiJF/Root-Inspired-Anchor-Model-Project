{
 "cells": [
  {
   "cell_type": "code",
   "execution_count": 1,
   "metadata": {},
   "outputs": [],
   "source": [
    "import pandas as pd\n",
    "from pandas.plotting import radviz\n",
    "import matplotlib.pyplot as plt\n",
    "import numpy as np\n",
    "from sklearn.model_selection import train_test_split\n",
    "#import the model we are using\n",
    "from sklearn.ensemble import RandomForestRegressor\n",
    "from sklearn import svm, preprocessing\n",
    "from sklearn.decomposition import PCA\n",
    "from sklearn.preprocessing import StandardScaler\n",
    "from sklearn import linear_model\n",
    "from sklearn.ensemble import BaggingClassifier\n",
    "from sklearn.tree import DecisionTreeClassifier\n",
    "from sklearn.linear_model import Perceptron\n",
    "from sklearn.metrics import accuracy_score\n",
    "from pandas import DataFrame"
   ]
  },
  {
   "cell_type": "code",
   "execution_count": 2,
   "metadata": {
    "scrolled": true
   },
   "outputs": [
    {
     "data": {
      "text/html": [
       "<div>\n",
       "<style scoped>\n",
       "    .dataframe tbody tr th:only-of-type {\n",
       "        vertical-align: middle;\n",
       "    }\n",
       "\n",
       "    .dataframe tbody tr th {\n",
       "        vertical-align: top;\n",
       "    }\n",
       "\n",
       "    .dataframe thead th {\n",
       "        text-align: right;\n",
       "    }\n",
       "</style>\n",
       "<table border=\"1\" class=\"dataframe\">\n",
       "  <thead>\n",
       "    <tr style=\"text-align: right;\">\n",
       "      <th></th>\n",
       "      <th>n [count]</th>\n",
       "      <th>H [mm]</th>\n",
       "      <th>b [mm]</th>\n",
       "      <th>d [mm]</th>\n",
       "      <th>γ [N/mm3]</th>\n",
       "      <th>Pmax [N]</th>\n",
       "      <th>P0 [N]</th>\n",
       "    </tr>\n",
       "  </thead>\n",
       "  <tbody>\n",
       "    <tr>\n",
       "      <th>0</th>\n",
       "      <td>3</td>\n",
       "      <td>90.0</td>\n",
       "      <td>19.4114</td>\n",
       "      <td>5.0</td>\n",
       "      <td>0.000016</td>\n",
       "      <td>9.080644</td>\n",
       "      <td>0.046939</td>\n",
       "    </tr>\n",
       "    <tr>\n",
       "      <th>1</th>\n",
       "      <td>3</td>\n",
       "      <td>90.0</td>\n",
       "      <td>12.9410</td>\n",
       "      <td>5.0</td>\n",
       "      <td>0.000016</td>\n",
       "      <td>8.758713</td>\n",
       "      <td>0.154249</td>\n",
       "    </tr>\n",
       "    <tr>\n",
       "      <th>2</th>\n",
       "      <td>6</td>\n",
       "      <td>90.0</td>\n",
       "      <td>19.4114</td>\n",
       "      <td>5.0</td>\n",
       "      <td>0.000016</td>\n",
       "      <td>11.753734</td>\n",
       "      <td>0.720029</td>\n",
       "    </tr>\n",
       "    <tr>\n",
       "      <th>3</th>\n",
       "      <td>6</td>\n",
       "      <td>90.0</td>\n",
       "      <td>12.9410</td>\n",
       "      <td>5.0</td>\n",
       "      <td>0.000016</td>\n",
       "      <td>10.797683</td>\n",
       "      <td>1.032218</td>\n",
       "    </tr>\n",
       "    <tr>\n",
       "      <th>4</th>\n",
       "      <td>F</td>\n",
       "      <td>90.0</td>\n",
       "      <td>19.4114</td>\n",
       "      <td>5.0</td>\n",
       "      <td>0.000016</td>\n",
       "      <td>14.095079</td>\n",
       "      <td>2.017568</td>\n",
       "    </tr>\n",
       "  </tbody>\n",
       "</table>\n",
       "</div>"
      ],
      "text/plain": [
       "  n [count]  H [mm]   b [mm]  d [mm]  γ [N/mm3]   Pmax [N]    P0 [N]\n",
       "0         3    90.0  19.4114     5.0   0.000016   9.080644  0.046939\n",
       "1         3    90.0  12.9410     5.0   0.000016   8.758713  0.154249\n",
       "2         6    90.0  19.4114     5.0   0.000016  11.753734  0.720029\n",
       "3         6    90.0  12.9410     5.0   0.000016  10.797683  1.032218\n",
       "4         F    90.0  19.4114     5.0   0.000016  14.095079  2.017568"
      ]
     },
     "execution_count": 2,
     "metadata": {},
     "output_type": "execute_result"
    }
   ],
   "source": [
    "def read(file):\n",
    "    return pd.read_csv(file)\n",
    "\n",
    "#features.set_index(['Index'], inplace = True)\n",
    "#features.drop(columns = ['Index'], inplace = True)\n",
    "\n",
    "features = read('unique_best_features.csv')\n",
    "features.head(5)"
   ]
  },
  {
   "cell_type": "code",
   "execution_count": 3,
   "metadata": {},
   "outputs": [
    {
     "name": "stdout",
     "output_type": "stream",
     "text": [
      "The shape of our feature is (177, 7)\n",
      "[['3' 90.0 19.4114 ... 1.6227528090000002e-05 9.080643766215946\n",
      "  0.04693902477297509]\n",
      " ['3' 90.0 12.941 ... 1.6227528090000002e-05 8.758712685220129\n",
      "  0.15424938510491631]\n",
      " ['6' 90.0 19.4114 ... 1.6227528090000002e-05 11.753734108513036\n",
      "  0.7200287064686859]\n",
      " ...\n",
      " ['6' 180.0 50.0 ... 1.6750322160000002e-05 61.59000337612501\n",
      "  5.760664511594999]\n",
      " ['3' 180.0 50.0 ... 1.6750322160000002e-05 54.62917554023999\n",
      "  15.073036600167]\n",
      " ['6' 180.0 50.0 ... 1.6750322160000002e-05 67.66697353814999\n",
      "  7.2759821856050015]]\n",
      "[9.080643766215946 8.758712685220129 11.753734108513036 10.797682927270913\n",
      " 14.095078801970407 9.423977046144007 4.436996466849162 11.139099021402783\n",
      " 11.187882725873392 12.050443881944995 21.138668177463693 22.377158183415\n",
      " 35.88357970022001 5.7637628783804 14.59258940572752 13.890200587874556\n",
      " 26.367723489059344 27.943116562585 46.467243922330006 16.465722631585038\n",
      " 16.953490728774117 18.007110208602843 9.560514481357332 5.383233080247388\n",
      " 14.934077561135252 14.153605457831734 13.02197475382832\n",
      " 14.669144032059991 24.54337218838168 25.433287879439998 42.357748607195\n",
      " 6.788083222051872 21.733747524630093 18.6607153219852 16.377897284389142\n",
      " 15.985357291119998 29.66511847411345 30.525533088365002 47.88742336203\n",
      " 20.83621988549047 17.29490682290599 21.94836557635784 18.016852715170874\n",
      " 23.880025902899362 17.519342111413756 10.497081539108782\n",
      " 19.128998850860913 15.616981810674849 14.246427403144994\n",
      " 26.825020188819998 23.714191555642238 17.733963276900326 19.109162678795\n",
      " 33.12854063715 57.151950962715 17.616838348724496 16.336478510379994\n",
      " 30.265623520755 45.706152757825 18.275491516975 36.432825650095\n",
      " 59.55683280021999 12.282388972947714 14.231688743282286\n",
      " 16.455980569839703 17.480300468688483 17.460815900375117 6.063413449065\n",
      " 9.903385737595 15.186153562054994 22.715467014449995 19.646066084207245\n",
      " 13.475755141589994 20.975132814195 29.868635618779997 43.42549567853\n",
      " 27.261865258390003 36.40519737505 50.193183503995 70.16964630878999\n",
      " 76.94761934877499 96.6078392657 23.019568288955004 25.092953975179995\n",
      " 33.039286392840005 36.89477084034 45.069626642284994 41.34557778274\n",
      " 52.000858008470004 52.030284823125 66.92157595564 63.1022035161\n",
      " 80.171990951535 94.66395039272498 91.2480147082 111.39337450395\n",
      " 7.110014303047688 11.66590876131714 8.748970178652105 15.363319447285695\n",
      " 11.66590876131714 7.900229357741924 12.953633530123104 9.870858376087488\n",
      " 17.93884149099618 11.100057378677503 8.739227672084079 10.036695392280755\n",
      " 11.529370881281128 7.861187715016644 10.592804268352367\n",
      " 15.198136307690001 12.153676858506227 13.187881911505 30.124631352375\n",
      " 14.965006739900005 22.573030326525 52.199373043754996 5.702605711267501\n",
      " 7.934872992134267 6.3970065563145 9.017665388634 7.194380129129901\n",
      " 10.002382300281 8.383098190658101 11.2862303781465 14.507070508175001\n",
      " 11.12583075135 27.10879521987 12.158245443399998 19.678395562035004\n",
      " 44.422068045495 5.1808277957765005 7.030587322980199 6.2243842151575\n",
      " 8.525307030877 6.404842363863999 8.993143075776997 7.553344971839449\n",
      " 9.639485549900499 13.370124772445 10.2858421456 25.342783287255006\n",
      " 11.038874205135002 17.90312419049 43.31471976013 8.752849122536396\n",
      " 12.864312475419998 10.981392526160002 12.70855345347 12.186581856641498\n",
      " 14.478869524769998 12.760537524455 16.62875394565 19.436020284625002\n",
      " 16.750453491485 36.44491234621999 19.76258074896 29.224511310820002\n",
      " 65.57171019644 17.071087797225 20.180180267904998 18.37651276062\n",
      " 22.81360804499 24.158261569715 31.058099887920005 33.03536177151\n",
      " 42.361496708824994 42.290900596805 37.932258512435006 50.766841147715006\n",
      " 49.088719354394996 47.360740552475 51.879055492810004 61.59000337612501\n",
      " 54.62917554023999 67.66697353814999]\n",
      "24.824067298221145\n"
     ]
    }
   ],
   "source": [
    "def print_shape(data):\n",
    "    print(\"The shape of our feature is \" + str(data.shape))\n",
    "\n",
    "print_shape(features)\n",
    "\n",
    "# Calculate the threshold\n",
    "np_array = np.array(features)\n",
    "print(np_array)\n",
    "np_array = np_array[:,5]\n",
    "print(np_array)\n",
    "threshold = np.mean(np_array)\n",
    "print(threshold)\n",
    "#print(np_array)"
   ]
  },
  {
   "cell_type": "code",
   "execution_count": 4,
   "metadata": {},
   "outputs": [
    {
     "data": {
      "text/plain": [
       "array(['n [count]', 'H [mm]', 'b [mm]', 'd [mm]', 'γ [N/mm3]', 'Pmax [N]',\n",
       "       'P0 [N]'], dtype=object)"
      ]
     },
     "execution_count": 4,
     "metadata": {},
     "output_type": "execute_result"
    }
   ],
   "source": [
    "#summary statistics\n",
    "features.describe()\n",
    "features.columns.values"
   ]
  },
  {
   "cell_type": "code",
   "execution_count": 5,
   "metadata": {},
   "outputs": [],
   "source": [
    "#pd.options.display.max_rows = 181\n",
    "pd.options.display.max_columns = 30\n",
    "#features.sort_values(by = \"L [mm]\", ascending = True, inplace = True)\n",
    "#display(features)"
   ]
  },
  {
   "cell_type": "code",
   "execution_count": 6,
   "metadata": {},
   "outputs": [],
   "source": [
    "#one hot encoding\n",
    "pd.options.display.max_columns = 181\n",
    "pd.options.display.max_rows = 181\n",
    "#features = pd.get_dummies(features, columns = ['n [count]', 'Material'])\n",
    "features = pd.get_dummies(features, columns = ['n [count]'])\n",
    "#features = pd.get_dummies(features, columns = ['Material'])\n",
    "#features.head(5)\n",
    "#display(features)\n",
    "#print_shape(features)"
   ]
  },
  {
   "cell_type": "code",
   "execution_count": 7,
   "metadata": {},
   "outputs": [
    {
     "name": "stdout",
     "output_type": "stream",
     "text": [
      "[[ 90.      19.4114   5.     ...   0.       0.       0.    ]\n",
      " [ 90.      12.941    5.     ...   0.       0.       0.    ]\n",
      " [ 90.      19.4114   5.     ...   1.       0.       0.    ]\n",
      " ...\n",
      " [180.      50.      10.     ...   1.       0.       0.    ]\n",
      " [180.      50.      10.     ...   0.       0.       0.    ]\n",
      " [180.      50.      10.     ...   1.       0.       0.    ]]\n",
      "The shape of our feature is (177, 11)\n"
     ]
    }
   ],
   "source": [
    "#target pmax\n",
    "pmax = np.array(features['Pmax [N]'])\n",
    "#Remove labels from the features\n",
    "features = features.drop('Pmax [N]', axis = 1)\n",
    "\n",
    "#features = StandardScaler().fit_transform(features)\n",
    "\n",
    "#pca = PCA(n_components = 11)\n",
    "#principalComponents = pca.fit_transform(features)\n",
    "#features = pd.DataFrame(data = principalComponents, columns = ['pc1', 'pc2','pc3','pc4','pc5','pc6','pc7','pc8','pc9','pc10','pc11'])\n",
    "#display(features)\n",
    "#print(pca.explained_variance_ratio_.cumsum())\n",
    "\n",
    "#Covert to numpy arrays\n",
    "features = np.array(features)\n",
    "print(features)\n",
    "\n",
    "print_shape(features)"
   ]
  },
  {
   "cell_type": "code",
   "execution_count": 8,
   "metadata": {},
   "outputs": [],
   "source": [
    "#split the data into training set and testing set \n",
    "train_features, test_features, train_labels, test_labels = train_test_split(features, pmax, test_size = 0.25, random_state = 42)"
   ]
  },
  {
   "cell_type": "code",
   "execution_count": 9,
   "metadata": {},
   "outputs": [
    {
     "name": "stdout",
     "output_type": "stream",
     "text": [
      "[-1. -1. -1.  1. -1.  1. -1.  1. -1. -1. -1. -1. -1. -1. -1. -1. -1. -1.\n",
      " -1.  1.  1. -1.  1.  1.  1. -1.  1. -1.  1. -1.  1. -1. -1. -1.  1. -1.\n",
      "  1. -1. -1.  1.  1. -1.  1. -1.  1.]\n",
      "[-1. -1. -1. -1. -1.  1. -1. -1. -1.  1. -1.  1.  1.  1. -1.  1. -1. -1.\n",
      "  1. -1. -1. -1. -1. -1. -1.  1.  1.  1. -1. -1. -1. -1. -1. -1. -1. -1.\n",
      " -1. -1. -1. -1. -1. -1. -1.  1.  1.  1. -1. -1.  1. -1.  1. -1. -1.  1.\n",
      " -1.  1.  1. -1. -1. -1. -1. -1. -1.  1. -1. -1. -1.  1. -1.  1. -1. -1.\n",
      "  1. -1.  1.  1. -1. -1. -1. -1. -1. -1. -1.  1.  1. -1. -1.  1. -1. -1.\n",
      " -1. -1.  1.  1. -1. -1. -1. -1. -1. -1.  1. -1. -1.  1.  1. -1.  1. -1.\n",
      "  1.  1. -1.  1. -1.  1. -1. -1. -1. -1. -1. -1. -1. -1.  1.  1. -1.  1.\n",
      " -1. -1. -1. -1.  1. -1.]\n"
     ]
    }
   ],
   "source": [
    "sc = StandardScaler()\n",
    "sc.fit(train_features)\n",
    "x_train_std = sc.transform(train_features)\n",
    "x_test_std = sc.transform(test_features)\n",
    "\n",
    "\n",
    "x_train_std = np.insert(x_train_std, 0, 1, axis = 1)\n",
    "x_test_std = np.insert(x_test_std, 0, 1, axis = 1)\n",
    "#print(train_features)\n",
    "#print(test_features)\n",
    "for i in range(test_labels.shape[0]):\n",
    "    if test_labels[i] > threshold:\n",
    "        test_labels[i] = 1\n",
    "    else:\n",
    "        test_labels[i] = -1\n",
    "print(test_labels)\n",
    "\n",
    "for i in range(train_labels.shape[0]):\n",
    "    if train_labels[i] > threshold:\n",
    "        train_labels[i] = 1\n",
    "    else:\n",
    "        train_labels[i] = -1\n",
    "print(train_labels)\n",
    "\n"
   ]
  },
  {
   "cell_type": "code",
   "execution_count": 10,
   "metadata": {},
   "outputs": [
    {
     "name": "stdout",
     "output_type": "stream",
     "text": [
      "45\n",
      "[-1. -1. -1.  1. -1. -1. -1.  1. -1. -1. -1. -1. -1. -1. -1. -1. -1. -1.\n",
      " -1.  1.  1. -1.  1.  1.  1. -1.  1. -1.  1. -1.  1. -1. -1. -1.  1. -1.\n",
      "  1. -1. -1.  1.  1. -1.  1. -1.  1.]\n",
      "Mean Absolute Error: 0.04 newton.\n"
     ]
    }
   ],
   "source": [
    "# Create a perceptron object with the parameters: 40 iterations (epochs) over the data, and a learning rate of 0.1\n",
    "ppn = Perceptron(max_iter = 100, eta0=1, random_state=0)\n",
    "\n",
    "pmax_pred = np.empty(test_labels.shape)\n",
    "\n",
    "# Train the perceptron\n",
    "ppn = ppn.fit(x_train_std, np.asarray(train_labels, dtype=\"|S6\"))\n",
    "y_pred = ppn.predict(x_test_std)\n",
    "print(y_pred.shape[0])\n",
    "for i in range(y_pred.shape[0]):\n",
    "    pmax_pred[i] = y_pred[i]\n",
    "#Calculate the absolute errors\n",
    "errors = abs(np.asarray(y_pred, dtype=float) - np.asarray(test_labels, dtype=float))\n",
    "\n",
    "# pmax prediction array\n",
    "print(pmax_pred)\n",
    "\n",
    "#print out the mean absolute error\n",
    "print('Mean Absolute Error:', round(np.mean(errors), 2), 'newton.')\n",
    "\n"
   ]
  },
  {
   "cell_type": "code",
   "execution_count": 11,
   "metadata": {},
   "outputs": [
    {
     "name": "stdout",
     "output_type": "stream",
     "text": [
      "Accuracy: 95.56 %.\n"
     ]
    }
   ],
   "source": [
    "# Calculate mean absolute percentage error\n",
    "mape = 100 * (errors / test_labels)\n",
    "\n",
    "# Calculate and display accuracy\n",
    "accuracy = 100 - np.mean(mape)\n",
    "print('Accuracy:', round(accuracy, 2), '%.')"
   ]
  },
  {
   "cell_type": "code",
   "execution_count": 12,
   "metadata": {},
   "outputs": [],
   "source": [
    "new = DataFrame(pmax_pred, test_labels)\n",
    "new.to_csv(\"line_to_scatter_converter.csv\")"
   ]
  },
  {
   "cell_type": "code",
   "execution_count": 13,
   "metadata": {},
   "outputs": [],
   "source": [
    "mid = pd.read_csv(\"line_to_scatter_converter.csv\")\n",
    "mid.sort_values(by = \"truth\", inplace = True)\n",
    "mid.to_csv(\"lts_sort.csv\", index = False)\n",
    "final = pd.read_csv(\"lts_sort.csv\")\n",
    "index = final.index\n",
    "pmax_pred = final[\"predict\"]\n",
    "label = final[\"truth\"]"
   ]
  },
  {
   "cell_type": "code",
   "execution_count": 15,
   "metadata": {},
   "outputs": [
    {
     "data": {
      "image/png": "[encoded data removed]",
      "text/plain": [
       "<Figure size 1440x360 with 1 Axes>"
      ]
     },
     "metadata": {
      "needs_background": "light"
     },
     "output_type": "display_data"
    }
   ],
   "source": [
    "fig = plt.figure(figsize=(20,5))\n",
    "plt.xlabel(\"Test Datapoints\", fontsize = 25)\n",
    "plt.ylabel(\"Pmax\", fontsize = 25)\n",
    "plt.title(\"Perceptron Prediction vs Actual Values\", fontsize = 25)\n",
    "plt.yticks(np.arange(min(pmax_pred), max(pmax_pred)+1, 1.0))\n",
    "plt.ylim(-2, 2)\n",
    "\n",
    "plt.scatter(index, pmax_pred, color = \"r\", label = \"Predictive Model\", marker = \"x\", s = 100)\n",
    "plt.scatter(index, label, color = \"b\", alpha = 0.7, label = \"Test Label\")\n",
    "\n",
    "plt.legend(loc = 2, prop = {\"size\" : 15})\n",
    "\n",
    "\n",
    "\n",
    "plt.savefig(\"T_Perceptron_plot.png\")"
   ]
  },
  {
   "cell_type": "code",
   "execution_count": null,
   "metadata": {},
   "outputs": [],
   "source": []
  }
 ],
 "metadata": {
  "kernelspec": {
   "display_name": "Python 3",
   "language": "python",
   "name": "python3"
  },
  "language_info": {
   "codemirror_mode": {
    "name": "ipython",
    "version": 3
   },
   "file_extension": ".py",
   "mimetype": "text/x-python",
   "name": "python",
   "nbconvert_exporter": "python",
   "pygments_lexer": "ipython3",
   "version": "3.6.8"
  }
 },
 "nbformat": 4,
 "nbformat_minor": 2
}
