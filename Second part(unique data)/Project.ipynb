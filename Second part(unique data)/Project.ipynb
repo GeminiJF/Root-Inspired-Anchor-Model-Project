{
 "cells": [
  {
   "cell_type": "code",
   "execution_count": 80,
   "metadata": {},
   "outputs": [],
   "source": [
    "import pandas as pd\n",
    "from pandas.plotting import radviz\n",
    "import matplotlib.pyplot as plt\n",
    "import numpy as np\n",
    "from sklearn.model_selection import train_test_split\n",
    "#import the model we are using\n",
    "from sklearn.ensemble import RandomForestRegressor\n",
    "from sklearn import svm, preprocessing\n",
    "from sklearn.decomposition import PCA\n",
    "from sklearn.preprocessing import StandardScaler\n",
    "from sklearn import linear_model\n",
    "from sklearn.ensemble import BaggingClassifier\n",
    "from sklearn.tree import DecisionTreeClassifier"
   ]
  },
  {
   "cell_type": "code",
   "execution_count": 81,
   "metadata": {
    "scrolled": false
   },
   "outputs": [
    {
     "data": {
      "text/html": [
       "<div>\n",
       "<style scoped>\n",
       "    .dataframe tbody tr th:only-of-type {\n",
       "        vertical-align: middle;\n",
       "    }\n",
       "\n",
       "    .dataframe tbody tr th {\n",
       "        vertical-align: top;\n",
       "    }\n",
       "\n",
       "    .dataframe thead th {\n",
       "        text-align: right;\n",
       "    }\n",
       "</style>\n",
       "<table border=\"1\" class=\"dataframe\">\n",
       "  <thead>\n",
       "    <tr style=\"text-align: right;\">\n",
       "      <th></th>\n",
       "      <th>n [count]</th>\n",
       "      <th>H [mm]</th>\n",
       "      <th>b [mm]</th>\n",
       "      <th>d [mm]</th>\n",
       "      <th>γ [N/mm3]</th>\n",
       "      <th>Pmax [N]</th>\n",
       "      <th>P0 [N]</th>\n",
       "    </tr>\n",
       "  </thead>\n",
       "  <tbody>\n",
       "    <tr>\n",
       "      <th>0</th>\n",
       "      <td>3</td>\n",
       "      <td>90.0</td>\n",
       "      <td>19.4114</td>\n",
       "      <td>5.0</td>\n",
       "      <td>0.000016</td>\n",
       "      <td>9.080644</td>\n",
       "      <td>0.046939</td>\n",
       "    </tr>\n",
       "    <tr>\n",
       "      <th>1</th>\n",
       "      <td>3</td>\n",
       "      <td>90.0</td>\n",
       "      <td>12.9410</td>\n",
       "      <td>5.0</td>\n",
       "      <td>0.000016</td>\n",
       "      <td>8.758713</td>\n",
       "      <td>0.154249</td>\n",
       "    </tr>\n",
       "    <tr>\n",
       "      <th>2</th>\n",
       "      <td>6</td>\n",
       "      <td>90.0</td>\n",
       "      <td>19.4114</td>\n",
       "      <td>5.0</td>\n",
       "      <td>0.000016</td>\n",
       "      <td>11.753734</td>\n",
       "      <td>0.720029</td>\n",
       "    </tr>\n",
       "    <tr>\n",
       "      <th>3</th>\n",
       "      <td>6</td>\n",
       "      <td>90.0</td>\n",
       "      <td>12.9410</td>\n",
       "      <td>5.0</td>\n",
       "      <td>0.000016</td>\n",
       "      <td>10.797683</td>\n",
       "      <td>1.032218</td>\n",
       "    </tr>\n",
       "    <tr>\n",
       "      <th>4</th>\n",
       "      <td>F</td>\n",
       "      <td>90.0</td>\n",
       "      <td>19.4114</td>\n",
       "      <td>5.0</td>\n",
       "      <td>0.000016</td>\n",
       "      <td>14.095079</td>\n",
       "      <td>2.017568</td>\n",
       "    </tr>\n",
       "  </tbody>\n",
       "</table>\n",
       "</div>"
      ],
      "text/plain": [
       "  n [count]  H [mm]   b [mm]  d [mm]  γ [N/mm3]   Pmax [N]    P0 [N]\n",
       "0         3    90.0  19.4114     5.0   0.000016   9.080644  0.046939\n",
       "1         3    90.0  12.9410     5.0   0.000016   8.758713  0.154249\n",
       "2         6    90.0  19.4114     5.0   0.000016  11.753734  0.720029\n",
       "3         6    90.0  12.9410     5.0   0.000016  10.797683  1.032218\n",
       "4         F    90.0  19.4114     5.0   0.000016  14.095079  2.017568"
      ]
     },
     "execution_count": 81,
     "metadata": {},
     "output_type": "execute_result"
    }
   ],
   "source": [
    "def read(file):\n",
    "    return pd.read_csv(file)\n",
    "\n",
    "#features.set_index(['Index'], inplace = True)\n",
    "#features.drop(columns = ['Index'], inplace = True)\n",
    "\n",
    "features = read('unique_best_features.csv')\n",
    "features.head(5)"
   ]
  },
  {
   "cell_type": "code",
   "execution_count": 82,
   "metadata": {
    "scrolled": true
   },
   "outputs": [
    {
     "name": "stdout",
     "output_type": "stream",
     "text": [
      "The shape of our feature is (177, 7)\n"
     ]
    }
   ],
   "source": [
    "def print_shape(data):\n",
    "    print(\"The shape of our feature is \" + str(data.shape))\n",
    "\n",
    "print_shape(features)"
   ]
  },
  {
   "cell_type": "code",
   "execution_count": 83,
   "metadata": {},
   "outputs": [
    {
     "data": {
      "text/plain": [
       "array(['n [count]', 'H [mm]', 'b [mm]', 'd [mm]', 'γ [N/mm3]', 'Pmax [N]',\n",
       "       'P0 [N]'], dtype=object)"
      ]
     },
     "execution_count": 83,
     "metadata": {},
     "output_type": "execute_result"
    }
   ],
   "source": [
    "#summary statistics\n",
    "features.describe()\n",
    "features.columns.values"
   ]
  },
  {
   "cell_type": "code",
   "execution_count": 84,
   "metadata": {},
   "outputs": [],
   "source": [
    "#pd.options.display.max_rows = 181\n",
    "pd.options.display.max_columns = 30\n",
    "#features.sort_values(by = \"L [mm]\", ascending = True, inplace = True)\n",
    "#display(features)"
   ]
  },
  {
   "cell_type": "code",
   "execution_count": 85,
   "metadata": {},
   "outputs": [],
   "source": [
    "#one hot encoding\n",
    "pd.options.display.max_columns = 181\n",
    "pd.options.display.max_rows = 181\n",
    "#features = pd.get_dummies(features, columns = ['n [count]', 'Material'])\n",
    "features = pd.get_dummies(features, columns = ['n [count]'])\n",
    "#features = pd.get_dummies(features, columns = ['Material'])\n",
    "#features.head(5)\n",
    "#display(features)\n",
    "#print_shape(features)"
   ]
  },
  {
   "cell_type": "code",
   "execution_count": 86,
   "metadata": {
    "scrolled": false
   },
   "outputs": [
    {
     "name": "stdout",
     "output_type": "stream",
     "text": [
      "The shape of our feature is (177, 11)\n"
     ]
    }
   ],
   "source": [
    "\n",
    "\n",
    "#target pmax\n",
    "pmax = np.array(features['Pmax [N]'])\n",
    "#Remove labels from the features\n",
    "features = features.drop('Pmax [N]', axis = 1)\n",
    "\n",
    "features = StandardScaler().fit_transform(features)\n",
    "\n",
    "#pca = PCA(n_components = 11)\n",
    "#principalComponents = pca.fit_transform(features)\n",
    "#features = pd.DataFrame(data = principalComponents, columns = ['pc1', 'pc2','pc3','pc4','pc5','pc6','pc7','pc8','pc9','pc10','pc11'])\n",
    "#display(features)\n",
    "#print(pca.explained_variance_ratio_.cumsum())\n",
    "\n",
    "#Covert to numpy arrays\n",
    "features = np.array(features)\n",
    "\n",
    "\n",
    "\n",
    "#print(features)\n",
    "print_shape(features)"
   ]
  },
  {
   "cell_type": "code",
   "execution_count": 87,
   "metadata": {},
   "outputs": [],
   "source": [
    "#split the data into training set and testing set \n",
    "train_features, test_features, train_labels, test_labels = train_test_split(features, pmax, test_size = 0.25, random_state = 42)"
   ]
  },
  {
   "cell_type": "code",
   "execution_count": 88,
   "metadata": {},
   "outputs": [
    {
     "name": "stdout",
     "output_type": "stream",
     "text": [
      "Training Features Shape: (132, 11)\n",
      "Training Labels Shape: (132,)\n",
      "Testing Features Shape: (45, 11)\n",
      "Testing Labels Shape: (45,)\n"
     ]
    }
   ],
   "source": [
    "print('Training Features Shape:', train_features.shape)\n",
    "print('Training Labels Shape:', train_labels.shape)\n",
    "print('Testing Features Shape:', test_features.shape)\n",
    "print('Testing Labels Shape:', test_labels.shape)"
   ]
  },
  {
   "cell_type": "code",
   "execution_count": 89,
   "metadata": {},
   "outputs": [],
   "source": [
    "#Establish Baseline"
   ]
  },
  {
   "cell_type": "code",
   "execution_count": 90,
   "metadata": {},
   "outputs": [
    {
     "data": {
      "text/plain": [
       "RandomForestRegressor(bootstrap=True, criterion='mse', max_depth=None,\n",
       "                      max_features='auto', max_leaf_nodes=None,\n",
       "                      min_impurity_decrease=0.0, min_impurity_split=None,\n",
       "                      min_samples_leaf=1, min_samples_split=2,\n",
       "                      min_weight_fraction_leaf=0.0, n_estimators=1000,\n",
       "                      n_jobs=None, oob_score=False, random_state=42, verbose=0,\n",
       "                      warm_start=False)"
      ]
     },
     "execution_count": 90,
     "metadata": {},
     "output_type": "execute_result"
    }
   ],
   "source": [
    "#instantiate the model \n",
    "rf = RandomForestRegressor(n_estimators = 1000, random_state = 42)\n",
    "# n_estimator is lambda\n",
    "# use cross validation to optimize the n_estimators \n",
    "# use k_fold\n",
    "#change the n_estimator to discover the difference \n",
    "#SVM, SVR, knernel RBF, logistic regression, naive base (compare between gernerateive method and discrimitive method)\n",
    "#ensemble method(random bagging)\n",
    "#plot those regression\n",
    "#PCA Get the result (visualize it)\n",
    "# --> classfication using high value, mid value, low value\n",
    "#train the model on training data\n",
    "\n",
    "#cumulate the features to see the result\n",
    "rf.fit(train_features, train_labels)"
   ]
  },
  {
   "cell_type": "code",
   "execution_count": 91,
   "metadata": {},
   "outputs": [
    {
     "name": "stdout",
     "output_type": "stream",
     "text": [
      "Mean Absolute Error: 3.29 newton.\n"
     ]
    }
   ],
   "source": [
    "#Make Predictions\n",
    "#Use the forest's predict method on the test data \n",
    "predictions = rf.predict(test_features)\n",
    "\n",
    "#Calculate the absolute errors\n",
    "errors = abs(predictions - test_labels)\n",
    "\n",
    "#print out the mean absolute error\n",
    "print('Mean Absolute Error:', round(np.mean(errors), 2), 'newton.')"
   ]
  },
  {
   "cell_type": "code",
   "execution_count": 92,
   "metadata": {
    "scrolled": true
   },
   "outputs": [
    {
     "name": "stdout",
     "output_type": "stream",
     "text": [
      "Accuracy: 85.81 %.\n"
     ]
    }
   ],
   "source": [
    "# Calculate mean absolute percentage error\n",
    "mape = 100 * (errors / test_labels)\n",
    "\n",
    "# Calculate and display accuracy\n",
    "accuracy = 100 - np.mean(mape)\n",
    "print('Accuracy:', round(accuracy, 2), '%.')\n"
   ]
  },
  {
   "cell_type": "markdown",
   "metadata": {},
   "source": [
    "Kernel rbf"
   ]
  },
  {
   "cell_type": "code",
   "execution_count": 93,
   "metadata": {},
   "outputs": [
    {
     "name": "stdout",
     "output_type": "stream",
     "text": [
      "0.30594053399446797\n"
     ]
    },
    {
     "name": "stderr",
     "output_type": "stream",
     "text": [
      "C:\\Users\\fmh\\Anaconda3\\lib\\site-packages\\sklearn\\svm\\base.py:193: FutureWarning: The default value of gamma will change from 'auto' to 'scale' in version 0.22 to account better for unscaled features. Set gamma explicitly to 'auto' or 'scale' to avoid this warning.\n",
      "  \"avoid this warning.\", FutureWarning)\n"
     ]
    }
   ],
   "source": [
    "#kernel (rbf)\n",
    "clf = svm.SVR(kernel = \"rbf\")\n",
    "clf.fit(train_features,train_labels)\n",
    "print(clf.score(train_features, train_labels))"
   ]
  },
  {
   "cell_type": "code",
   "execution_count": 94,
   "metadata": {},
   "outputs": [
    {
     "name": "stdout",
     "output_type": "stream",
     "text": [
      "Model: 20.5173201002947, Actual: 16.465722631585038\n",
      "Model: 17.782737164510657, Actual: 10.497081539108782\n",
      "Model: 11.285639763661582, Actual: 9.639485549900499\n",
      "Model: 22.50601211967903, Actual: 42.357748607195\n",
      "Model: 14.197638824961945, Actual: 6.063413449065\n",
      "Model: 20.154736784501306, Actual: 26.367723489059344\n",
      "Model: 11.446260335616433, Actual: 7.934872992134267\n",
      "Model: 29.56808755906563, Actual: 51.879055492810004\n",
      "Model: 9.47848509130506, Actual: 7.861187715016644\n",
      "Model: 19.289207047477035, Actual: 13.370124772445\n",
      "Model: 19.745058624290554, Actual: 14.934077561135252\n",
      "Model: 23.221038924325967, Actual: 20.180180267904998\n",
      "Model: 19.94778869552822, Actual: 21.94836557635784\n",
      "Model: 9.222661491994648, Actual: 5.702605711267501\n",
      "Model: 15.878159567735189, Actual: 13.890200587874556\n",
      "Model: 20.098957142675463, Actual: 15.198136307690001\n",
      "Model: 14.331179205282062, Actual: 13.187881911505\n",
      "Model: 19.926277378200297, Actual: 23.019568288955004\n",
      "Model: 13.330550692346407, Actual: 12.050443881944995\n",
      "Model: 23.662369205202317, Actual: 30.124631352375\n",
      "Model: 25.6828479446879, Actual: 46.467243922330006\n",
      "Model: 19.793839501486662, Actual: 17.460815900375117\n",
      "Model: 22.162693919036382, Actual: 36.432825650095\n",
      "Model: 31.10390229174553, Actual: 42.290900596805\n",
      "Model: 31.999758625028036, Actual: 50.766841147715006\n",
      "Model: 15.678554553535406, Actual: 12.186581856641498\n",
      "Model: 26.734937002609893, Actual: 52.199373043754996\n",
      "Model: 20.52770753204769, Actual: 17.480300468688483\n",
      "Model: 32.06767889007305, Actual: 66.92157595564\n",
      "Model: 18.43573308058534, Actual: 17.616838348724496\n",
      "Model: 18.52912997200106, Actual: 25.433287879439998\n",
      "Model: 14.404866779710508, Actual: 11.12583075135\n",
      "Model: 17.148494707401206, Actual: 17.90312419049\n",
      "Model: 13.453820729681778, Actual: 6.788083222051872\n",
      "Model: 22.194192277767137, Actual: 35.88357970022001\n",
      "Model: 19.801535663172007, Actual: 18.016852715170874\n",
      "Model: 26.24223537019987, Actual: 36.44491234621999\n",
      "Model: 9.037642299768061, Actual: 6.404842363863999\n",
      "Model: 11.422650453541426, Actual: 8.748970178652105\n",
      "Model: 23.11552664305137, Actual: 29.224511310820002\n",
      "Model: 25.498588940641092, Actual: 47.88742336203\n",
      "Model: 14.653894983112489, Actual: 11.529370881281128\n",
      "Model: 26.632251222198946, Actual: 36.89477084034\n",
      "Model: 15.39879585508838, Actual: 9.903385737595\n",
      "Model: 22.291667468419536, Actual: 25.342783287255006\n",
      "Mean Absolute error: 7.71 newton.\n",
      "Accuracy: 49.53 %.\n"
     ]
    }
   ],
   "source": [
    "\n",
    "errors = 0\n",
    "for X,y in zip(test_features, test_labels):\n",
    "    print(f\"Model: {clf.predict([X])[0]}, Actual: {y}\")\n",
    "    errors += abs(clf.predict([X])[0] - y)\n",
    "errors = errors / test_features.shape[0]\n",
    "\n",
    "print('Mean Absolute error:',round(errors, 2) , 'newton.')\n",
    "\n",
    "# Calculate mean absolute percentage error\n",
    "mape = 100 * (errors / test_labels)\n",
    "\n",
    "# Calculate and display accuracy\n",
    "accuracy = 100 - np.mean(mape)\n",
    "print('Accuracy:', round(accuracy, 2), '%.')\n",
    "\n"
   ]
  },
  {
   "cell_type": "markdown",
   "metadata": {},
   "source": [
    "kernel polynomial"
   ]
  },
  {
   "cell_type": "code",
   "execution_count": 95,
   "metadata": {},
   "outputs": [
    {
     "name": "stdout",
     "output_type": "stream",
     "text": [
      "0.5663144841801326\n"
     ]
    },
    {
     "name": "stderr",
     "output_type": "stream",
     "text": [
      "C:\\Users\\fmh\\Anaconda3\\lib\\site-packages\\sklearn\\svm\\base.py:193: FutureWarning: The default value of gamma will change from 'auto' to 'scale' in version 0.22 to account better for unscaled features. Set gamma explicitly to 'auto' or 'scale' to avoid this warning.\n",
      "  \"avoid this warning.\", FutureWarning)\n"
     ]
    }
   ],
   "source": [
    "clf = svm.SVR(kernel = \"poly\")\n",
    "clf.fit(train_features,train_labels)\n",
    "print(clf.score(train_features, train_labels))"
   ]
  },
  {
   "cell_type": "code",
   "execution_count": 96,
   "metadata": {},
   "outputs": [
    {
     "name": "stdout",
     "output_type": "stream",
     "text": [
      "Model: 17.354975383239957, Actual: 16.465722631585038\n",
      "Model: 9.906159578655059, Actual: 10.497081539108782\n",
      "Model: 14.389878905346377, Actual: 9.639485549900499\n",
      "Model: 18.089454543047317, Actual: 42.357748607195\n",
      "Model: 12.881516915188724, Actual: 6.063413449065\n",
      "Model: 17.389174168646594, Actual: 26.367723489059344\n",
      "Model: 14.883802567416314, Actual: 7.934872992134267\n",
      "Model: 67.17825960063828, Actual: 51.879055492810004\n",
      "Model: 14.109594273827323, Actual: 7.861187715016644\n",
      "Model: 17.37301171104962, Actual: 13.370124772445\n",
      "Model: 17.788610620434927, Actual: 14.934077561135252\n",
      "Model: 18.561675165300457, Actual: 20.180180267904998\n",
      "Model: 17.449048627536925, Actual: 21.94836557635784\n",
      "Model: 13.86962258718459, Actual: 5.702605711267501\n",
      "Model: 16.42665576110873, Actual: 13.890200587874556\n",
      "Model: 18.063184896615386, Actual: 15.198136307690001\n",
      "Model: 15.51520157039533, Actual: 13.187881911505\n",
      "Model: 17.866878551452846, Actual: 23.019568288955004\n",
      "Model: 15.804381993226832, Actual: 12.050443881944995\n",
      "Model: 21.89536428699033, Actual: 30.124631352375\n",
      "Model: 18.73131619570385, Actual: 46.467243922330006\n",
      "Model: 16.983250646395287, Actual: 17.460815900375117\n",
      "Model: 17.739679261730625, Actual: 36.432825650095\n",
      "Model: 26.127560048609975, Actual: 42.290900596805\n",
      "Model: 42.66687628096068, Actual: 50.766841147715006\n",
      "Model: 15.757823103657772, Actual: 12.186581856641498\n",
      "Model: 23.763885369199002, Actual: 52.199373043754996\n",
      "Model: 17.46795624318627, Actual: 17.480300468688483\n",
      "Model: 37.25137763957625, Actual: 66.92157595564\n",
      "Model: 17.15856184912456, Actual: 17.616838348724496\n",
      "Model: 17.220189287365027, Actual: 25.433287879439998\n",
      "Model: 15.555967139418478, Actual: 11.12583075135\n",
      "Model: 16.920071918918683, Actual: 17.90312419049\n",
      "Model: 14.855363090377946, Actual: 6.788083222051872\n",
      "Model: 18.032349569428156, Actual: 35.88357970022001\n",
      "Model: 17.03713093493443, Actual: 18.016852715170874\n",
      "Model: 23.91090627526011, Actual: 36.44491234621999\n",
      "Model: 13.097722585756674, Actual: 6.404842363863999\n",
      "Model: 14.857345875934971, Actual: 8.748970178652105\n",
      "Model: 18.738000715813342, Actual: 29.224511310820002\n",
      "Model: 18.682657091374047, Actual: 47.88742336203\n",
      "Model: 15.626803201785696, Actual: 11.529370881281128\n",
      "Model: 21.927608245427972, Actual: 36.89477084034\n",
      "Model: 15.461217103813123, Actual: 9.903385737595\n",
      "Model: 21.01045409888262, Actual: 25.342783287255006\n",
      "Mean Absolute error: 8.64 newton.\n",
      "Accuracy: 43.45 %.\n"
     ]
    }
   ],
   "source": [
    "errors = 0\n",
    "for X,y in zip(test_features, test_labels):\n",
    "    print(f\"Model: {clf.predict([X])[0]}, Actual: {y}\")\n",
    "    errors += abs(clf.predict([X])[0] - y)\n",
    "errors = errors / test_features.shape[0]\n",
    "\n",
    "print('Mean Absolute error:',round(errors, 2) , 'newton.')\n",
    "\n",
    "# Calculate mean absolute percentage error\n",
    "mape = 100 * (errors / test_labels)\n",
    "\n",
    "# Calculate and display accuracy\n",
    "accuracy = 100 - np.mean(mape)\n",
    "print('Accuracy:', round(accuracy, 2), '%.')\n"
   ]
  },
  {
   "cell_type": "markdown",
   "metadata": {},
   "source": [
    "Linear"
   ]
  },
  {
   "cell_type": "code",
   "execution_count": 97,
   "metadata": {},
   "outputs": [
    {
     "name": "stdout",
     "output_type": "stream",
     "text": [
      "0.8975517847402235\n"
     ]
    }
   ],
   "source": [
    "clf = svm.SVR(kernel = \"linear\")\n",
    "clf.fit(train_features,train_labels)\n",
    "print(clf.score(train_features, train_labels))"
   ]
  },
  {
   "cell_type": "code",
   "execution_count": 98,
   "metadata": {},
   "outputs": [
    {
     "name": "stdout",
     "output_type": "stream",
     "text": [
      "Model: 16.834775983838625, Actual: 16.465722631585038\n",
      "Model: 10.848464279593413, Actual: 10.497081539108782\n",
      "Model: 9.58044116396237, Actual: 9.639485549900499\n",
      "Model: 36.171371749509035, Actual: 42.357748607195\n",
      "Model: 0.4085695644600378, Actual: 6.063413449065\n",
      "Model: 25.062632939866887, Actual: 26.367723489059344\n",
      "Model: 8.9900199997384, Actual: 7.934872992134267\n",
      "Model: 67.04419053228565, Actual: 51.879055492810004\n",
      "Model: 8.445228553396412, Actual: 7.861187715016644\n",
      "Model: 12.12431348129463, Actual: 13.370124772445\n",
      "Model: 19.12370823628995, Actual: 14.934077561135252\n",
      "Model: 25.934371910108027, Actual: 20.180180267904998\n",
      "Model: 21.76794466620199, Actual: 21.94836557635784\n",
      "Model: 6.754582219557914, Actual: 5.702605711267501\n",
      "Model: 14.868158909330512, Actual: 13.890200587874556\n",
      "Model: 15.311144961972456, Actual: 15.198136307690001\n",
      "Model: 12.139696901037773, Actual: 13.187881911505\n",
      "Model: 25.188411616737785, Actual: 23.019568288955004\n",
      "Model: 12.973138262341333, Actual: 12.050443881944995\n",
      "Model: 31.514424638825417, Actual: 30.124631352375\n",
      "Model: 41.3649883774168, Actual: 46.467243922330006\n",
      "Model: 16.629592682774142, Actual: 17.460815900375117\n",
      "Model: 31.641662728983896, Actual: 36.432825650095\n",
      "Model: 49.721948919058114, Actual: 42.290900596805\n",
      "Model: 62.41615865168363, Actual: 50.766841147715006\n",
      "Model: 14.254592523534837, Actual: 12.186581856641498\n",
      "Model: 48.98732334880059, Actual: 52.199373043754996\n",
      "Model: 18.426491434090035, Actual: 17.480300468688483\n",
      "Model: 57.112659688543815, Actual: 66.92157595564\n",
      "Model: 18.996562716000618, Actual: 17.616838348724496\n",
      "Model: 26.754571197398725, Actual: 25.433287879439998\n",
      "Model: 12.371327255365639, Actual: 11.12583075135\n",
      "Model: 21.852332964366497, Actual: 17.90312419049\n",
      "Model: 4.9202867229071074, Actual: 6.788083222051872\n",
      "Model: 34.92270619168832, Actual: 35.88357970022001\n",
      "Model: 17.918653840572986, Actual: 18.016852715170874\n",
      "Model: 40.25533591157925, Actual: 36.44491234621999\n",
      "Model: 6.176382552823444, Actual: 6.404842363863999\n",
      "Model: 8.967801512061463, Actual: 8.748970178652105\n",
      "Model: 30.73748763475841, Actual: 29.224511310820002\n",
      "Model: 40.56824826037824, Actual: 47.88742336203\n",
      "Model: 13.33161292633712, Actual: 11.529370881281128\n",
      "Model: 35.99503723035818, Actual: 36.89477084034\n",
      "Model: 6.790942971262147, Actual: 9.903385737595\n",
      "Model: 27.248846015359753, Actual: 25.342783287255006\n",
      "Mean Absolute error: 2.83 newton.\n",
      "Accuracy: 81.48 %.\n"
     ]
    }
   ],
   "source": [
    "errors = 0\n",
    "for X,y in zip(test_features, test_labels):\n",
    "    print(f\"Model: {clf.predict([X])[0]}, Actual: {y}\")\n",
    "    errors += abs(clf.predict([X])[0] - y)\n",
    "errors = errors / test_features.shape[0]\n",
    "\n",
    "print('Mean Absolute error:',round(errors, 2) , 'newton.')\n",
    "\n",
    "# Calculate mean absolute percentage error\n",
    "mape = 100 * (errors / test_labels)\n",
    "\n",
    "# Calculate and display accuracy\n",
    "accuracy = 100 - np.mean(mape)\n",
    "print('Accuracy:', round(accuracy, 2), '%.')\n"
   ]
  },
  {
   "cell_type": "markdown",
   "metadata": {},
   "source": [
    "Linear Regression"
   ]
  },
  {
   "cell_type": "code",
   "execution_count": 99,
   "metadata": {},
   "outputs": [
    {
     "data": {
      "text/plain": [
       "Ridge(alpha=1.0, copy_X=True, fit_intercept=True, max_iter=None,\n",
       "      normalize=False, random_state=None, solver='auto', tol=0.001)"
      ]
     },
     "execution_count": 99,
     "metadata": {},
     "output_type": "execute_result"
    }
   ],
   "source": [
    "reg = linear_model.Ridge()\n",
    "reg.fit(train_features, train_labels)"
   ]
  },
  {
   "cell_type": "code",
   "execution_count": 100,
   "metadata": {},
   "outputs": [
    {
     "data": {
      "text/plain": [
       "array([12.86354371,  4.4267161 , -1.9650538 ,  2.67506978,  7.13361069,\n",
       "        0.19101808, -0.27068898, -0.96898405,  0.26248012,  0.17487578,\n",
       "        0.71288128])"
      ]
     },
     "execution_count": 100,
     "metadata": {},
     "output_type": "execute_result"
    }
   ],
   "source": [
    "reg.coef_"
   ]
  },
  {
   "cell_type": "code",
   "execution_count": 101,
   "metadata": {},
   "outputs": [],
   "source": [
    "a = reg.predict(test_features)"
   ]
  },
  {
   "cell_type": "code",
   "execution_count": 102,
   "metadata": {},
   "outputs": [
    {
     "data": {
      "text/plain": [
       "array([15.9447348 , 10.69206447,  9.13859761, 41.27888474, -5.12421294,\n",
       "       28.45366106,  8.93682835, 67.07486827,  6.62872069, 12.7437721 ,\n",
       "       23.44062408, 27.02149031, 23.49120239,  5.35152445, 14.44459418,\n",
       "       15.41011218, 12.42188959, 23.9624249 , 11.11883808, 34.00053568,\n",
       "       47.11962392, 16.75415211, 33.46977964, 48.68826979, 61.89701709,\n",
       "       12.70527009, 56.39207063, 17.15832308, 57.24401541, 18.68769738,\n",
       "       27.8627476 , 12.6103149 , 25.82701292,  0.62354653, 40.32685158,\n",
       "       17.73698451, 42.31221539,  4.66228989,  8.90806713, 34.48524042,\n",
       "       46.51215701, 13.33065461, 35.73200167,  3.14525161, 30.51171511])"
      ]
     },
     "execution_count": 102,
     "metadata": {},
     "output_type": "execute_result"
    }
   ],
   "source": [
    "a"
   ]
  },
  {
   "cell_type": "code",
   "execution_count": 103,
   "metadata": {},
   "outputs": [
    {
     "data": {
      "text/plain": [
       "array([16.46572263, 10.49708154,  9.63948555, 42.35774861,  6.06341345,\n",
       "       26.36772349,  7.93487299, 51.87905549,  7.86118772, 13.37012477,\n",
       "       14.93407756, 20.18018027, 21.94836558,  5.70260571, 13.89020059,\n",
       "       15.19813631, 13.18788191, 23.01956829, 12.05044388, 30.12463135,\n",
       "       46.46724392, 17.4608159 , 36.43282565, 42.2909006 , 50.76684115,\n",
       "       12.18658186, 52.19937304, 17.48030047, 66.92157596, 17.61683835,\n",
       "       25.43328788, 11.12583075, 17.90312419,  6.78808322, 35.8835797 ,\n",
       "       18.01685272, 36.44491235,  6.40484236,  8.74897018, 29.22451131,\n",
       "       47.88742336, 11.52937088, 36.89477084,  9.90338574, 25.34278329])"
      ]
     },
     "execution_count": 103,
     "metadata": {},
     "output_type": "execute_result"
    }
   ],
   "source": [
    "test_labels"
   ]
  },
  {
   "cell_type": "code",
   "execution_count": 104,
   "metadata": {},
   "outputs": [
    {
     "name": "stdout",
     "output_type": "stream",
     "text": [
      "Mean Absolute error: 2.83 newton.\n"
     ]
    }
   ],
   "source": [
    "np.mean(abs(test_labels - a))\n",
    "print('Mean Absolute error:',round(errors, 2) , 'newton.')"
   ]
  },
  {
   "cell_type": "code",
   "execution_count": 105,
   "metadata": {},
   "outputs": [
    {
     "name": "stdout",
     "output_type": "stream",
     "text": [
      "Accuracy: 81.48 %.\n"
     ]
    }
   ],
   "source": [
    "# Calculate mean absolute percentage error\n",
    "mape = 100 * (errors / test_labels)\n",
    "\n",
    "# Calculate and display accuracy\n",
    "accuracy = 100 - np.mean(mape)\n",
    "print('Accuracy:', round(accuracy, 2), '%.')\n"
   ]
  },
  {
   "cell_type": "markdown",
   "metadata": {},
   "source": [
    "logistic regression\n"
   ]
  },
  {
   "cell_type": "code",
   "execution_count": 106,
   "metadata": {},
   "outputs": [
    {
     "name": "stdout",
     "output_type": "stream",
     "text": [
      "0.6817358721431492\n"
     ]
    },
    {
     "name": "stderr",
     "output_type": "stream",
     "text": [
      "C:\\Users\\fmh\\Anaconda3\\lib\\site-packages\\sklearn\\svm\\base.py:193: FutureWarning: The default value of gamma will change from 'auto' to 'scale' in version 0.22 to account better for unscaled features. Set gamma explicitly to 'auto' or 'scale' to avoid this warning.\n",
      "  \"avoid this warning.\", FutureWarning)\n"
     ]
    }
   ],
   "source": [
    "clf = svm.SVR(kernel = \"sigmoid\")\n",
    "clf.fit(train_features,train_labels)\n",
    "print(clf.score(train_features, train_labels))"
   ]
  },
  {
   "cell_type": "code",
   "execution_count": 107,
   "metadata": {},
   "outputs": [
    {
     "name": "stdout",
     "output_type": "stream",
     "text": [
      "Model: 16.923306215387, Actual: 16.465722631585038\n",
      "Model: 11.714983358531816, Actual: 10.497081539108782\n",
      "Model: 10.455398334705938, Actual: 9.639485549900499\n",
      "Model: 26.314261234039733, Actual: 42.357748607195\n",
      "Model: 7.566675499222024, Actual: 6.063413449065\n",
      "Model: 21.356038164327845, Actual: 26.367723489059344\n",
      "Model: 10.56259598160946, Actual: 7.934872992134267\n",
      "Model: 47.10355168401402, Actual: 51.879055492810004\n",
      "Model: 8.893644628269026, Actual: 7.861187715016644\n",
      "Model: 15.873154440080299, Actual: 13.370124772445\n",
      "Model: 20.321115009600334, Actual: 14.934077561135252\n",
      "Model: 25.850303116908336, Actual: 20.180180267904998\n",
      "Model: 21.083555422201144, Actual: 21.94836557635784\n",
      "Model: 8.1885877580015, Actual: 5.702605711267501\n",
      "Model: 15.22156643304365, Actual: 13.890200587874556\n",
      "Model: 17.933417520760504, Actual: 15.198136307690001\n",
      "Model: 13.307808706005606, Actual: 13.187881911505\n",
      "Model: 22.785862791270986, Actual: 23.019568288955004\n",
      "Model: 12.694392485784395, Actual: 12.050443881944995\n",
      "Model: 26.338955725575318, Actual: 30.124631352375\n",
      "Model: 30.5712723217151, Actual: 46.467243922330006\n",
      "Model: 16.743532569549107, Actual: 17.460815900375117\n",
      "Model: 24.75789038926361, Actual: 36.432825650095\n",
      "Model: 39.220060383285386, Actual: 42.290900596805\n",
      "Model: 45.185098848945, Actual: 50.766841147715006\n",
      "Model: 14.582328850168034, Actual: 12.186581856641498\n",
      "Model: 34.43406633287918, Actual: 52.199373043754996\n",
      "Model: 17.70240219740876, Actual: 17.480300468688483\n",
      "Model: 42.75466594202754, Actual: 66.92157595564\n",
      "Model: 18.518323512852774, Actual: 17.616838348724496\n",
      "Model: 20.500375909702026, Actual: 25.433287879439998\n",
      "Model: 13.436697610614528, Actual: 11.12583075135\n",
      "Model: 18.405599813146253, Actual: 17.90312419049\n",
      "Model: 9.490905656034625, Actual: 6.788083222051872\n",
      "Model: 25.660481781665275, Actual: 35.88357970022001\n",
      "Model: 17.38174453799337, Actual: 18.016852715170874\n",
      "Model: 33.635436291407736, Actual: 36.44491234621999\n",
      "Model: 7.605686759055514, Actual: 6.404842363863999\n",
      "Model: 10.533387251192119, Actual: 8.748970178652105\n",
      "Model: 26.484001086638607, Actual: 29.224511310820002\n",
      "Model: 30.185600009765096, Actual: 47.88742336203\n",
      "Model: 13.86604200650817, Actual: 11.529370881281128\n",
      "Model: 31.53377032199331, Actual: 36.89477084034\n",
      "Model: 11.878028677416092, Actual: 9.903385737595\n",
      "Model: 23.883317460780827, Actual: 25.342783287255006\n",
      "Mean Absolute error: 4.45 newton.\n",
      "Accuracy: 70.85 %.\n"
     ]
    }
   ],
   "source": [
    "errors = 0\n",
    "for X,y in zip(test_features, test_labels):\n",
    "    print(f\"Model: {clf.predict([X])[0]}, Actual: {y}\")\n",
    "    errors += abs(clf.predict([X])[0] - y)\n",
    "errors = errors / test_features.shape[0]\n",
    "\n",
    "print('Mean Absolute error:',round(errors, 2) , 'newton.')\n",
    "\n",
    "# Calculate mean absolute percentage error\n",
    "mape = 100 * (errors / test_labels)\n",
    "\n",
    "# Calculate and display accuracy\n",
    "accuracy = 100 - np.mean(mape)\n",
    "print('Accuracy:', round(accuracy, 2), '%.')\n"
   ]
  },
  {
   "cell_type": "markdown",
   "metadata": {},
   "source": [
    "ensemble learning"
   ]
  },
  {
   "cell_type": "code",
   "execution_count": 30,
   "metadata": {},
   "outputs": [],
   "source": [
    "#bg = BaggingClassifier(DecisionTreeClassifier(), n_estimators = 1000)\n",
    "#bg.fit(train_features, train_labels)\n"
   ]
  },
  {
   "cell_type": "code",
   "execution_count": null,
   "metadata": {},
   "outputs": [],
   "source": []
  },
  {
   "cell_type": "code",
   "execution_count": null,
   "metadata": {},
   "outputs": [],
   "source": []
  }
 ],
 "metadata": {
  "kernelspec": {
   "display_name": "Python 3",
   "language": "python",
   "name": "python3"
  },
  "language_info": {
   "codemirror_mode": {
    "name": "ipython",
    "version": 3
   },
   "file_extension": ".py",
   "mimetype": "text/x-python",
   "name": "python",
   "nbconvert_exporter": "python",
   "pygments_lexer": "ipython3",
   "version": "3.6.8"
  }
 },
 "nbformat": 4,
 "nbformat_minor": 2
}
